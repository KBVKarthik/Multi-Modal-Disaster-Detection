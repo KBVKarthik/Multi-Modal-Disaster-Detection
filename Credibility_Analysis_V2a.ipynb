{
  "nbformat": 4,
  "nbformat_minor": 0,
  "metadata": {
    "colab": {
      "provenance": []
    },
    "kernelspec": {
      "name": "python3",
      "display_name": "Python 3"
    },
    "language_info": {
      "name": "python"
    }
  },
  "cells": [
    {
      "cell_type": "code",
      "source": [
        "\n",
        "import numpy as np \n",
        "import pandas as pd \n",
        "\n",
        "\n",
        "import os\n",
        "for dirname, _, filenames in os.walk('./'):\n",
        "    for filename in filenames:\n",
        "        print(os.path.join(dirname, filename))\n"
      ],
      "metadata": {
        "colab": {
          "base_uri": "https://localhost:8080/"
        },
        "id": "mkCFRKZuuKRg",
        "outputId": "8474b971-c11f-46c7-f24a-b6444c7e8f26"
      },
      "execution_count": null,
      "outputs": [
        {
          "output_type": "stream",
          "name": "stdout",
          "text": [
            "./test.csv\n",
            "./train.csv\n",
            "./.config/.last_survey_prompt.yaml\n",
            "./.config/active_config\n",
            "./.config/.last_update_check.json\n",
            "./.config/config_sentinel\n",
            "./.config/.last_opt_in_prompt.yaml\n",
            "./.config/gce\n",
            "./.config/logs/2023.05.03/13.30.53.412375.log\n",
            "./.config/logs/2023.05.03/13.31.21.082174.log\n",
            "./.config/logs/2023.05.03/13.31.20.347025.log\n",
            "./.config/logs/2023.05.03/13.30.18.933743.log\n",
            "./.config/logs/2023.05.03/13.29.51.883151.log\n",
            "./.config/logs/2023.05.03/13.30.45.111331.log\n",
            "./.config/configurations/config_default\n",
            "./sample_data/anscombe.json\n",
            "./sample_data/README.md\n",
            "./sample_data/mnist_test.csv\n",
            "./sample_data/mnist_train_small.csv\n",
            "./sample_data/california_housing_test.csv\n",
            "./sample_data/california_housing_train.csv\n"
          ]
        }
      ]
    },
    {
      "cell_type": "code",
      "source": [
        "train_data = pd.read_csv('./train.csv')\n",
        "test_data = pd.read_csv('./test.csv')\n",
        "print(train_data.shape)\n",
        "print(train_data.columns)\n",
        "print(test_data.shape)\n",
        "train_data.head()"
      ],
      "metadata": {
        "colab": {
          "base_uri": "https://localhost:8080/",
          "height": 258
        },
        "id": "x7Gstw9NuSnY",
        "outputId": "698af0a2-89ee-4b2f-913a-15029d558ed7"
      },
      "execution_count": null,
      "outputs": [
        {
          "output_type": "stream",
          "name": "stdout",
          "text": [
            "(7613, 5)\n",
            "Index(['id', 'keyword', 'location', 'text', 'target'], dtype='object')\n",
            "(3263, 4)\n"
          ]
        },
        {
          "output_type": "execute_result",
          "data": {
            "text/plain": [
              "   id keyword location                                               text  \\\n",
              "0   1     NaN      NaN  Our Deeds are the Reason of this #earthquake M...   \n",
              "1   4     NaN      NaN             Forest fire near La Ronge Sask. Canada   \n",
              "2   5     NaN      NaN  All residents asked to 'shelter in place' are ...   \n",
              "3   6     NaN      NaN  13,000 people receive #wildfires evacuation or...   \n",
              "4   7     NaN      NaN  Just got sent this photo from Ruby #Alaska as ...   \n",
              "\n",
              "   target  \n",
              "0       1  \n",
              "1       1  \n",
              "2       1  \n",
              "3       1  \n",
              "4       1  "
            ],
            "text/html": [
              "\n",
              "  <div id=\"df-923f9ff4-7137-403c-a34b-67ddade9b411\">\n",
              "    <div class=\"colab-df-container\">\n",
              "      <div>\n",
              "<style scoped>\n",
              "    .dataframe tbody tr th:only-of-type {\n",
              "        vertical-align: middle;\n",
              "    }\n",
              "\n",
              "    .dataframe tbody tr th {\n",
              "        vertical-align: top;\n",
              "    }\n",
              "\n",
              "    .dataframe thead th {\n",
              "        text-align: right;\n",
              "    }\n",
              "</style>\n",
              "<table border=\"1\" class=\"dataframe\">\n",
              "  <thead>\n",
              "    <tr style=\"text-align: right;\">\n",
              "      <th></th>\n",
              "      <th>id</th>\n",
              "      <th>keyword</th>\n",
              "      <th>location</th>\n",
              "      <th>text</th>\n",
              "      <th>target</th>\n",
              "    </tr>\n",
              "  </thead>\n",
              "  <tbody>\n",
              "    <tr>\n",
              "      <th>0</th>\n",
              "      <td>1</td>\n",
              "      <td>NaN</td>\n",
              "      <td>NaN</td>\n",
              "      <td>Our Deeds are the Reason of this #earthquake M...</td>\n",
              "      <td>1</td>\n",
              "    </tr>\n",
              "    <tr>\n",
              "      <th>1</th>\n",
              "      <td>4</td>\n",
              "      <td>NaN</td>\n",
              "      <td>NaN</td>\n",
              "      <td>Forest fire near La Ronge Sask. Canada</td>\n",
              "      <td>1</td>\n",
              "    </tr>\n",
              "    <tr>\n",
              "      <th>2</th>\n",
              "      <td>5</td>\n",
              "      <td>NaN</td>\n",
              "      <td>NaN</td>\n",
              "      <td>All residents asked to 'shelter in place' are ...</td>\n",
              "      <td>1</td>\n",
              "    </tr>\n",
              "    <tr>\n",
              "      <th>3</th>\n",
              "      <td>6</td>\n",
              "      <td>NaN</td>\n",
              "      <td>NaN</td>\n",
              "      <td>13,000 people receive #wildfires evacuation or...</td>\n",
              "      <td>1</td>\n",
              "    </tr>\n",
              "    <tr>\n",
              "      <th>4</th>\n",
              "      <td>7</td>\n",
              "      <td>NaN</td>\n",
              "      <td>NaN</td>\n",
              "      <td>Just got sent this photo from Ruby #Alaska as ...</td>\n",
              "      <td>1</td>\n",
              "    </tr>\n",
              "  </tbody>\n",
              "</table>\n",
              "</div>\n",
              "      <button class=\"colab-df-convert\" onclick=\"convertToInteractive('df-923f9ff4-7137-403c-a34b-67ddade9b411')\"\n",
              "              title=\"Convert this dataframe to an interactive table.\"\n",
              "              style=\"display:none;\">\n",
              "        \n",
              "  <svg xmlns=\"http://www.w3.org/2000/svg\" height=\"24px\"viewBox=\"0 0 24 24\"\n",
              "       width=\"24px\">\n",
              "    <path d=\"M0 0h24v24H0V0z\" fill=\"none\"/>\n",
              "    <path d=\"M18.56 5.44l.94 2.06.94-2.06 2.06-.94-2.06-.94-.94-2.06-.94 2.06-2.06.94zm-11 1L8.5 8.5l.94-2.06 2.06-.94-2.06-.94L8.5 2.5l-.94 2.06-2.06.94zm10 10l.94 2.06.94-2.06 2.06-.94-2.06-.94-.94-2.06-.94 2.06-2.06.94z\"/><path d=\"M17.41 7.96l-1.37-1.37c-.4-.4-.92-.59-1.43-.59-.52 0-1.04.2-1.43.59L10.3 9.45l-7.72 7.72c-.78.78-.78 2.05 0 2.83L4 21.41c.39.39.9.59 1.41.59.51 0 1.02-.2 1.41-.59l7.78-7.78 2.81-2.81c.8-.78.8-2.07 0-2.86zM5.41 20L4 18.59l7.72-7.72 1.47 1.35L5.41 20z\"/>\n",
              "  </svg>\n",
              "      </button>\n",
              "      \n",
              "  <style>\n",
              "    .colab-df-container {\n",
              "      display:flex;\n",
              "      flex-wrap:wrap;\n",
              "      gap: 12px;\n",
              "    }\n",
              "\n",
              "    .colab-df-convert {\n",
              "      background-color: #E8F0FE;\n",
              "      border: none;\n",
              "      border-radius: 50%;\n",
              "      cursor: pointer;\n",
              "      display: none;\n",
              "      fill: #1967D2;\n",
              "      height: 32px;\n",
              "      padding: 0 0 0 0;\n",
              "      width: 32px;\n",
              "    }\n",
              "\n",
              "    .colab-df-convert:hover {\n",
              "      background-color: #E2EBFA;\n",
              "      box-shadow: 0px 1px 2px rgba(60, 64, 67, 0.3), 0px 1px 3px 1px rgba(60, 64, 67, 0.15);\n",
              "      fill: #174EA6;\n",
              "    }\n",
              "\n",
              "    [theme=dark] .colab-df-convert {\n",
              "      background-color: #3B4455;\n",
              "      fill: #D2E3FC;\n",
              "    }\n",
              "\n",
              "    [theme=dark] .colab-df-convert:hover {\n",
              "      background-color: #434B5C;\n",
              "      box-shadow: 0px 1px 3px 1px rgba(0, 0, 0, 0.15);\n",
              "      filter: drop-shadow(0px 1px 2px rgba(0, 0, 0, 0.3));\n",
              "      fill: #FFFFFF;\n",
              "    }\n",
              "  </style>\n",
              "\n",
              "      <script>\n",
              "        const buttonEl =\n",
              "          document.querySelector('#df-923f9ff4-7137-403c-a34b-67ddade9b411 button.colab-df-convert');\n",
              "        buttonEl.style.display =\n",
              "          google.colab.kernel.accessAllowed ? 'block' : 'none';\n",
              "\n",
              "        async function convertToInteractive(key) {\n",
              "          const element = document.querySelector('#df-923f9ff4-7137-403c-a34b-67ddade9b411');\n",
              "          const dataTable =\n",
              "            await google.colab.kernel.invokeFunction('convertToInteractive',\n",
              "                                                     [key], {});\n",
              "          if (!dataTable) return;\n",
              "\n",
              "          const docLinkHtml = 'Like what you see? Visit the ' +\n",
              "            '<a target=\"_blank\" href=https://colab.research.google.com/notebooks/data_table.ipynb>data table notebook</a>'\n",
              "            + ' to learn more about interactive tables.';\n",
              "          element.innerHTML = '';\n",
              "          dataTable['output_type'] = 'display_data';\n",
              "          await google.colab.output.renderOutput(dataTable, element);\n",
              "          const docLink = document.createElement('div');\n",
              "          docLink.innerHTML = docLinkHtml;\n",
              "          element.appendChild(docLink);\n",
              "        }\n",
              "      </script>\n",
              "    </div>\n",
              "  </div>\n",
              "  "
            ]
          },
          "metadata": {},
          "execution_count": 2
        }
      ]
    },
    {
      "cell_type": "code",
      "source": [
        "train_data = train_data.drop('id',axis = 1)\n",
        "test_data = test_data.drop('id',axis = 1)"
      ],
      "metadata": {
        "id": "6DP5GpOGubog"
      },
      "execution_count": null,
      "outputs": []
    },
    {
      "cell_type": "code",
      "source": [
        "test_data = test_data.fillna('')\n",
        "train_data = train_data.fillna('')"
      ],
      "metadata": {
        "id": "NIB2i6tnucNg"
      },
      "execution_count": null,
      "outputs": []
    },
    {
      "cell_type": "code",
      "source": [
        "import re\n",
        "def keyword_correction(x):\n",
        "    try:\n",
        "        x = x.split(\"%20\")\n",
        "        x = ' '.join(x)\n",
        "        return x\n",
        "    except:\n",
        "        return x"
      ],
      "metadata": {
        "id": "Z4Ja1FEoue65"
      },
      "execution_count": null,
      "outputs": []
    },
    {
      "cell_type": "code",
      "source": [
        "train_data['keyword'] = train_data['keyword'].apply(lambda x: keyword_correction(x))\n",
        "test_data['keyword'] = test_data['keyword'].apply(lambda x: keyword_correction(x))"
      ],
      "metadata": {
        "id": "Nd6pSLjXuhuf"
      },
      "execution_count": null,
      "outputs": []
    },
    {
      "cell_type": "code",
      "source": [
        "from nltk.corpus import stopwords\n",
        "import string\n",
        "from bs4 import BeautifulSoup\n",
        "def text_cleaning(text):\n",
        "    forbidden_words = set(stopwords.words('english'))\n",
        "    if text:\n",
        "        text = ' '.join(text.split('.'))\n",
        "        text = re.sub(r'\\s+', ' ', re.sub('[^A-Za-z0-9]', ' ', text.strip().lower())).strip()\n",
        "        text = re.sub(r'\\W+', ' ', text.strip().lower()).strip()\n",
        "        text = [word for word in text.split() if word not in forbidden_words]\n",
        "        return text\n",
        "    return []\n",
        "\n",
        "puncts = [',', '.', '\"', ':', ')', '(', '-', '!', '?', '|', ';', \"'\", '$', '&', '/', '[', ']', '>', '%', '=', '#', '*', '+', '\\\\', '•',  '~', '@', '£',\n",
        " '·', '_', '{', '}', '©', '^', '®', '`',  '<', '→', '°', '€', '™', '›',  '♥', '←', '×', '§', '″', '′', 'Â', '█', '½', 'à', '…', '\\xa0', '\\t',\n",
        " '“', '★', '”', '–', '●', 'â', '►', '−', '¢', '²', '¬', '░', '¶', '↑', '±', '¿', '▾', '═', '¦', '║', '―', '¥', '▓', '—', '‹', '─', '\\u3000', '\\u202f',\n",
        " '▒', '：', '¼', '⊕', '▼', '▪', '†', '■', '’', '▀', '¨', '▄', '♫', '☆', 'é', '¯', '♦', '¤', '▲', 'è', '¸', '¾', 'Ã', '⋅', '‘', '∞', '«',\n",
        " '∙', '）', '↓', '、', '│', '（', '»', '，', '♪', '╩', '╚', '³', '・', '╦', '╣', '╔', '╗', '▬', '❤', 'ï', 'Ø', '¹', '≤', '‡', '√', ]\n",
        "\n",
        "mispell_dict = {\"aren't\" : \"are not\",\n",
        "\"can't\" : \"cannot\",\n",
        "\"couldn't\" : \"could not\",\n",
        "\"couldnt\" : \"could not\",\n",
        "\"didn't\" : \"did not\",\n",
        "\"doesn't\" : \"does not\",\n",
        "\"doesnt\" : \"does not\",\n",
        "\"don't\" : \"do not\",\n",
        "\"hadn't\" : \"had not\",\n",
        "\"hasn't\" : \"has not\",\n",
        "\"haven't\" : \"have not\",\n",
        "\"havent\" : \"have not\",\n",
        "\"he'd\" : \"he would\",\n",
        "\"he'll\" : \"he will\",\n",
        "\"he's\" : \"he is\",\n",
        "\"i'd\" : \"I would\",\n",
        "\"i'd\" : \"I had\",\n",
        "\"i'll\" : \"I will\",\n",
        "\"i'm\" : \"I am\",\n",
        "\"isn't\" : \"is not\",\n",
        "\"it's\" : \"it is\",\n",
        "\"it'll\":\"it will\",\n",
        "\"i've\" : \"I have\",\n",
        "\"let's\" : \"let us\",\n",
        "\"mightn't\" : \"might not\",\n",
        "\"mustn't\" : \"must not\",\n",
        "\"shan't\" : \"shall not\",\n",
        "\"she'd\" : \"she would\",\n",
        "\"she'll\" : \"she will\",\n",
        "\"she's\" : \"she is\",\n",
        "\"shouldn't\" : \"should not\",\n",
        "\"shouldnt\" : \"should not\",\n",
        "\"that's\" : \"that is\",\n",
        "\"thats\" : \"that is\",\n",
        "\"there's\" : \"there is\",\n",
        "\"theres\" : \"there is\",\n",
        "\"they'd\" : \"they would\",\n",
        "\"they'll\" : \"they will\",\n",
        "\"they're\" : \"they are\",\n",
        "\"theyre\":  \"they are\",\n",
        "\"they've\" : \"they have\",\n",
        "\"we'd\" : \"we would\",\n",
        "\"we're\" : \"we are\",\n",
        "\"weren't\" : \"were not\",\n",
        "\"we've\" : \"we have\",\n",
        "\"what'll\" : \"what will\",\n",
        "\"what're\" : \"what are\",\n",
        "\"what's\" : \"what is\",\n",
        "\"what've\" : \"what have\",\n",
        "\"where's\" : \"where is\",\n",
        "\"who'd\" : \"who would\",\n",
        "\"who'll\" : \"who will\",\n",
        "\"who're\" : \"who are\",\n",
        "\"who's\" : \"who is\",\n",
        "\"who've\" : \"who have\",\n",
        "\"won't\" : \"will not\",\n",
        "\"wouldn't\" : \"would not\",\n",
        "\"you'd\" : \"you would\",\n",
        "\"you'll\" : \"you will\",\n",
        "\"you're\" : \"you are\",\n",
        "\"you've\" : \"you have\",\n",
        "\"'re\": \" are\",\n",
        "\"wasn't\": \"was not\",\n",
        "\"we'll\":\" will\",\n",
        "\"didn't\": \"did not\"}\n",
        "\n",
        "puncts = puncts + list(string.punctuation)\n",
        "\n",
        "def clean_text(x):\n",
        "    x = str(x).replace(\"\\n\",\"\")\n",
        "    for punct in puncts:\n",
        "        x = x.replace(punct, f' {punct} ')\n",
        "    return x\n",
        "\n",
        "\n",
        "def clean_numbers(x):\n",
        "    x = re.sub('\\d+', ' ', x)\n",
        "    return x\n",
        "\n",
        "\n",
        "def replace_typical_misspell(text):\n",
        "    mispellings_re = re.compile('(%s)' % '|'.join(mispell_dict.keys()))\n",
        "\n",
        "    def replace(match):\n",
        "        return mispell_dict[match.group(0)]\n",
        "\n",
        "    return mispellings_re.sub(replace, text)\n",
        "\n",
        "def remove_space(string):\n",
        "    string = BeautifulSoup(string).text.strip().lower()\n",
        "    string = re.sub(r'((http)\\S+)', 'http', string)\n",
        "    string = re.sub(r'\\s+', ' ', string)\n",
        "    return string\n",
        "\n",
        "\n",
        "def clean_data(df, columns: list):\n",
        "    \n",
        "    for col in columns:\n",
        "        df[col] = df[col].apply(lambda x: remove_space(x).lower())        \n",
        "        df[col] = df[col].apply(lambda x: replace_typical_misspell(x))\n",
        "        df[col] = df[col].apply(lambda x: clean_text(x))\n",
        "        \n",
        "    return df"
      ],
      "metadata": {
        "id": "eRhLUzhzuju8"
      },
      "execution_count": null,
      "outputs": []
    },
    {
      "cell_type": "code",
      "source": [
        "import nltk\n",
        "nltk.download('stopwords')"
      ],
      "metadata": {
        "colab": {
          "base_uri": "https://localhost:8080/"
        },
        "id": "vsvv-XBY_f6x",
        "outputId": "8b7fbebb-bf8c-44e1-c077-3b426dff84de"
      },
      "execution_count": null,
      "outputs": [
        {
          "output_type": "stream",
          "name": "stderr",
          "text": [
            "[nltk_data] Downloading package stopwords to /root/nltk_data...\n",
            "[nltk_data]   Unzipping corpora/stopwords.zip.\n"
          ]
        },
        {
          "output_type": "execute_result",
          "data": {
            "text/plain": [
              "True"
            ]
          },
          "metadata": {},
          "execution_count": 8
        }
      ]
    },
    {
      "cell_type": "code",
      "source": [
        "for col in ['location','text']:\n",
        "    train_data[col] = train_data[col].apply(lambda x: ' '.join(text_cleaning(x)))\n",
        "    test_data[col] = test_data[col].apply(lambda x: ' '.join(text_cleaning(x)))\n",
        "train_data = clean_data(train_data,['keyword','text'])\n",
        "test_data = clean_data(test_data,['keyword','text'])"
      ],
      "metadata": {
        "id": "HnqP1B0ourYw"
      },
      "execution_count": null,
      "outputs": []
    },
    {
      "cell_type": "code",
      "source": [
        "!python -m spacy download en_core_web_lg"
      ],
      "metadata": {
        "colab": {
          "base_uri": "https://localhost:8080/"
        },
        "id": "S-PqbfGAvAGE",
        "outputId": "2c6cc220-a006-46bb-dc22-697418801ccc"
      },
      "execution_count": null,
      "outputs": [
        {
          "output_type": "stream",
          "name": "stdout",
          "text": [
            "2023-05-05 09:12:45.167223: I tensorflow/core/platform/cpu_feature_guard.cc:182] This TensorFlow binary is optimized to use available CPU instructions in performance-critical operations.\n",
            "To enable the following instructions: AVX2 FMA, in other operations, rebuild TensorFlow with the appropriate compiler flags.\n",
            "2023-05-05 09:12:46.318738: W tensorflow/compiler/tf2tensorrt/utils/py_utils.cc:38] TF-TRT Warning: Could not find TensorRT\n",
            "Looking in indexes: https://pypi.org/simple, https://us-python.pkg.dev/colab-wheels/public/simple/\n",
            "Collecting en-core-web-lg==3.5.0\n",
            "  Downloading https://github.com/explosion/spacy-models/releases/download/en_core_web_lg-3.5.0/en_core_web_lg-3.5.0-py3-none-any.whl (587.7 MB)\n",
            "\u001b[2K     \u001b[90m━━━━━━━━━━━━━━━━━━━━━━━━━━━━━━━━━━━━━━━\u001b[0m \u001b[32m587.7/587.7 MB\u001b[0m \u001b[31m2.7 MB/s\u001b[0m eta \u001b[36m0:00:00\u001b[0m\n",
            "\u001b[?25hRequirement already satisfied: spacy<3.6.0,>=3.5.0 in /usr/local/lib/python3.10/dist-packages (from en-core-web-lg==3.5.0) (3.5.2)\n",
            "Requirement already satisfied: wasabi<1.2.0,>=0.9.1 in /usr/local/lib/python3.10/dist-packages (from spacy<3.6.0,>=3.5.0->en-core-web-lg==3.5.0) (1.1.1)\n",
            "Requirement already satisfied: smart-open<7.0.0,>=5.2.1 in /usr/local/lib/python3.10/dist-packages (from spacy<3.6.0,>=3.5.0->en-core-web-lg==3.5.0) (6.3.0)\n",
            "Requirement already satisfied: spacy-loggers<2.0.0,>=1.0.0 in /usr/local/lib/python3.10/dist-packages (from spacy<3.6.0,>=3.5.0->en-core-web-lg==3.5.0) (1.0.4)\n",
            "Requirement already satisfied: jinja2 in /usr/local/lib/python3.10/dist-packages (from spacy<3.6.0,>=3.5.0->en-core-web-lg==3.5.0) (3.1.2)\n",
            "Requirement already satisfied: cymem<2.1.0,>=2.0.2 in /usr/local/lib/python3.10/dist-packages (from spacy<3.6.0,>=3.5.0->en-core-web-lg==3.5.0) (2.0.7)\n",
            "Requirement already satisfied: srsly<3.0.0,>=2.4.3 in /usr/local/lib/python3.10/dist-packages (from spacy<3.6.0,>=3.5.0->en-core-web-lg==3.5.0) (2.4.6)\n",
            "Requirement already satisfied: requests<3.0.0,>=2.13.0 in /usr/local/lib/python3.10/dist-packages (from spacy<3.6.0,>=3.5.0->en-core-web-lg==3.5.0) (2.27.1)\n",
            "Requirement already satisfied: typer<0.8.0,>=0.3.0 in /usr/local/lib/python3.10/dist-packages (from spacy<3.6.0,>=3.5.0->en-core-web-lg==3.5.0) (0.7.0)\n",
            "Requirement already satisfied: packaging>=20.0 in /usr/local/lib/python3.10/dist-packages (from spacy<3.6.0,>=3.5.0->en-core-web-lg==3.5.0) (23.1)\n",
            "Requirement already satisfied: numpy>=1.15.0 in /usr/local/lib/python3.10/dist-packages (from spacy<3.6.0,>=3.5.0->en-core-web-lg==3.5.0) (1.22.4)\n",
            "Requirement already satisfied: setuptools in /usr/local/lib/python3.10/dist-packages (from spacy<3.6.0,>=3.5.0->en-core-web-lg==3.5.0) (67.7.2)\n",
            "Requirement already satisfied: murmurhash<1.1.0,>=0.28.0 in /usr/local/lib/python3.10/dist-packages (from spacy<3.6.0,>=3.5.0->en-core-web-lg==3.5.0) (1.0.9)\n",
            "Requirement already satisfied: catalogue<2.1.0,>=2.0.6 in /usr/local/lib/python3.10/dist-packages (from spacy<3.6.0,>=3.5.0->en-core-web-lg==3.5.0) (2.0.8)\n",
            "Requirement already satisfied: pydantic!=1.8,!=1.8.1,<1.11.0,>=1.7.4 in /usr/local/lib/python3.10/dist-packages (from spacy<3.6.0,>=3.5.0->en-core-web-lg==3.5.0) (1.10.7)\n",
            "Requirement already satisfied: thinc<8.2.0,>=8.1.8 in /usr/local/lib/python3.10/dist-packages (from spacy<3.6.0,>=3.5.0->en-core-web-lg==3.5.0) (8.1.9)\n",
            "Requirement already satisfied: preshed<3.1.0,>=3.0.2 in /usr/local/lib/python3.10/dist-packages (from spacy<3.6.0,>=3.5.0->en-core-web-lg==3.5.0) (3.0.8)\n",
            "Requirement already satisfied: spacy-legacy<3.1.0,>=3.0.11 in /usr/local/lib/python3.10/dist-packages (from spacy<3.6.0,>=3.5.0->en-core-web-lg==3.5.0) (3.0.12)\n",
            "Requirement already satisfied: pathy>=0.10.0 in /usr/local/lib/python3.10/dist-packages (from spacy<3.6.0,>=3.5.0->en-core-web-lg==3.5.0) (0.10.1)\n",
            "Requirement already satisfied: tqdm<5.0.0,>=4.38.0 in /usr/local/lib/python3.10/dist-packages (from spacy<3.6.0,>=3.5.0->en-core-web-lg==3.5.0) (4.65.0)\n",
            "Requirement already satisfied: langcodes<4.0.0,>=3.2.0 in /usr/local/lib/python3.10/dist-packages (from spacy<3.6.0,>=3.5.0->en-core-web-lg==3.5.0) (3.3.0)\n",
            "Requirement already satisfied: typing-extensions>=4.2.0 in /usr/local/lib/python3.10/dist-packages (from pydantic!=1.8,!=1.8.1,<1.11.0,>=1.7.4->spacy<3.6.0,>=3.5.0->en-core-web-lg==3.5.0) (4.5.0)\n",
            "Requirement already satisfied: certifi>=2017.4.17 in /usr/local/lib/python3.10/dist-packages (from requests<3.0.0,>=2.13.0->spacy<3.6.0,>=3.5.0->en-core-web-lg==3.5.0) (2022.12.7)\n",
            "Requirement already satisfied: idna<4,>=2.5 in /usr/local/lib/python3.10/dist-packages (from requests<3.0.0,>=2.13.0->spacy<3.6.0,>=3.5.0->en-core-web-lg==3.5.0) (3.4)\n",
            "Requirement already satisfied: charset-normalizer~=2.0.0 in /usr/local/lib/python3.10/dist-packages (from requests<3.0.0,>=2.13.0->spacy<3.6.0,>=3.5.0->en-core-web-lg==3.5.0) (2.0.12)\n",
            "Requirement already satisfied: urllib3<1.27,>=1.21.1 in /usr/local/lib/python3.10/dist-packages (from requests<3.0.0,>=2.13.0->spacy<3.6.0,>=3.5.0->en-core-web-lg==3.5.0) (1.26.15)\n",
            "Requirement already satisfied: confection<1.0.0,>=0.0.1 in /usr/local/lib/python3.10/dist-packages (from thinc<8.2.0,>=8.1.8->spacy<3.6.0,>=3.5.0->en-core-web-lg==3.5.0) (0.0.4)\n",
            "Requirement already satisfied: blis<0.8.0,>=0.7.8 in /usr/local/lib/python3.10/dist-packages (from thinc<8.2.0,>=8.1.8->spacy<3.6.0,>=3.5.0->en-core-web-lg==3.5.0) (0.7.9)\n",
            "Requirement already satisfied: click<9.0.0,>=7.1.1 in /usr/local/lib/python3.10/dist-packages (from typer<0.8.0,>=0.3.0->spacy<3.6.0,>=3.5.0->en-core-web-lg==3.5.0) (8.1.3)\n",
            "Requirement already satisfied: MarkupSafe>=2.0 in /usr/local/lib/python3.10/dist-packages (from jinja2->spacy<3.6.0,>=3.5.0->en-core-web-lg==3.5.0) (2.1.2)\n",
            "Installing collected packages: en-core-web-lg\n",
            "Successfully installed en-core-web-lg-3.5.0\n",
            "\u001b[38;5;2m✔ Download and installation successful\u001b[0m\n",
            "You can now load the package via spacy.load('en_core_web_lg')\n"
          ]
        }
      ]
    },
    {
      "cell_type": "code",
      "source": [
        "import spacy\n",
        "nlp = spacy.load('en_core_web_lg')"
      ],
      "metadata": {
        "id": "nhsHXStEuuXx"
      },
      "execution_count": null,
      "outputs": []
    },
    {
      "cell_type": "code",
      "source": [
        "def location_detection(text):\n",
        "    doc = nlp(text)\n",
        "    entities = []\n",
        "    for ent in doc.ents:\n",
        "        entities.append(ent)\n",
        "    if len(entities)>0:\n",
        "        return 1\n",
        "    return 0"
      ],
      "metadata": {
        "id": "fOCvG2y2uwjA"
      },
      "execution_count": null,
      "outputs": []
    },
    {
      "cell_type": "code",
      "source": [
        "train_data['original_locations'] = train_data['location'].apply(lambda x: location_detection(x))\n",
        "test_data['original_locations'] = test_data['location'].apply(lambda x: location_detection(x))"
      ],
      "metadata": {
        "id": "teds-MLjvY_H"
      },
      "execution_count": null,
      "outputs": []
    },
    {
      "cell_type": "code",
      "source": [
        "spam_locations = ['place','room','home','somewhere','nowhere','everywhere','location',\n",
        "                  'dope','kidding','moon','wherever','dimension','world','fvck','fuck','beside']\n",
        "def is_location_spammy(text):\n",
        "    for word in spam_locations:\n",
        "        if word in text:\n",
        "            return 1\n",
        "    return 0"
      ],
      "metadata": {
        "id": "wgD41ZtGvbnR"
      },
      "execution_count": null,
      "outputs": []
    },
    {
      "cell_type": "code",
      "source": [
        "train_data['Is_location_spam'] = train_data['location'].apply(lambda x: is_location_spammy(x))\n",
        "test_data['Is_location_spam'] = test_data['location'].apply(lambda x: is_location_spammy(x))\n"
      ],
      "metadata": {
        "id": "cAF81aWfvepR"
      },
      "execution_count": null,
      "outputs": []
    },
    {
      "cell_type": "code",
      "source": [
        "def digit_counter(text):\n",
        "    \"\"\"detects any digit in any token and counts\n",
        "       once par token.\"\"\"\n",
        "    sum_number = 0\n",
        "    doc = nlp(text)\n",
        "    for token in doc:\n",
        "        sum_number += bool(re.search(r'\\d', token.text))*1\n",
        "    return sum_number    "
      ],
      "metadata": {
        "id": "WNcfpCJTvh2Q"
      },
      "execution_count": null,
      "outputs": []
    },
    {
      "cell_type": "code",
      "source": [
        "train_data['digit_count_location'] = train_data['location'].apply(lambda x: digit_counter(x))\n",
        "test_data['digit_count_location'] = test_data['location'].apply(lambda x: digit_counter(x))"
      ],
      "metadata": {
        "id": "1YgoKKbBvkXq"
      },
      "execution_count": null,
      "outputs": []
    },
    {
      "cell_type": "code",
      "source": [
        "disaster_tweets =' '.join(train_data[train_data['target'] == 1]['text'].tolist())\n",
        "non_disaster_tweets = ' '.join(train_data[train_data['target'] == 0]['text'].tolist())"
      ],
      "metadata": {
        "id": "kWGkjGTavpGI"
      },
      "execution_count": null,
      "outputs": []
    },
    {
      "cell_type": "code",
      "source": [
        "import nltk\n",
        "import gensim\n",
        "from gensim.models import PAM\n",
        "\n",
        "def return_top_words(text, words=10):\n",
        "# Tokenize the text into words\n",
        "  all_words = nltk.tokenize.word_tokenize(text)\n",
        "# Remove stop words\n",
        "  stop_words = nltk.corpus.stopwords.words('english')\n",
        "  all_words_except_stop_dist = nltk.FreqDist(w.lower() for w in all_words if w not in stop_words)\n",
        "# Create a dictionary from the words\n",
        "  dictionary = gensim.corpora.Dictionary([all_words_except_stop_dist])\n",
        "# Convert the words into a bag-of-words corpus\n",
        "  corpus = [dictionary.doc2bow([text])]\n",
        "\n",
        "# Train the PAM model on the corpus\n",
        "  pam_model = PAM(corpus, num_topics=-1, num_clusters=words, dictionary=dictionary)\n",
        "  topics = pam_model.show_topics(num_topics=-1, num_words=words)\n",
        "\n",
        "# Extract the top words for each topic\n",
        "  top_words = []\n",
        "  for topic in topics:\n",
        "      words = [word for word, prob in pam_model.show_topic(topic[0], topn=words)]\n",
        "      top_words.append(words)\n",
        "\n",
        "  return top_words"
      ],
      "metadata": {
        "id": "2OObon-AvsZK",
        "colab": {
          "base_uri": "https://localhost:8080/",
          "height": 373
        },
        "outputId": "b84d10d4-b797-4cb9-9bfd-6edb33b5bd79"
      },
      "execution_count": null,
      "outputs": [
        {
          "output_type": "error",
          "ename": "ImportError",
          "evalue": "ignored",
          "traceback": [
            "\u001b[0;31m---------------------------------------------------------------------------\u001b[0m",
            "\u001b[0;31mImportError\u001b[0m                               Traceback (most recent call last)",
            "\u001b[0;32m<ipython-input-19-3bb53aede969>\u001b[0m in \u001b[0;36m<cell line: 3>\u001b[0;34m()\u001b[0m\n\u001b[1;32m      1\u001b[0m \u001b[0;32mimport\u001b[0m \u001b[0mnltk\u001b[0m\u001b[0;34m\u001b[0m\u001b[0;34m\u001b[0m\u001b[0m\n\u001b[1;32m      2\u001b[0m \u001b[0;32mimport\u001b[0m \u001b[0mgensim\u001b[0m\u001b[0;34m\u001b[0m\u001b[0;34m\u001b[0m\u001b[0m\n\u001b[0;32m----> 3\u001b[0;31m \u001b[0;32mfrom\u001b[0m \u001b[0mgensim\u001b[0m\u001b[0;34m.\u001b[0m\u001b[0mmodels\u001b[0m \u001b[0;32mimport\u001b[0m \u001b[0mPAM\u001b[0m\u001b[0;34m\u001b[0m\u001b[0;34m\u001b[0m\u001b[0m\n\u001b[0m\u001b[1;32m      4\u001b[0m \u001b[0;34m\u001b[0m\u001b[0m\n\u001b[1;32m      5\u001b[0m \u001b[0;32mdef\u001b[0m \u001b[0mreturn_top_words\u001b[0m\u001b[0;34m(\u001b[0m\u001b[0mtext\u001b[0m\u001b[0;34m,\u001b[0m \u001b[0mwords\u001b[0m\u001b[0;34m=\u001b[0m\u001b[0;36m10\u001b[0m\u001b[0;34m)\u001b[0m\u001b[0;34m:\u001b[0m\u001b[0;34m\u001b[0m\u001b[0;34m\u001b[0m\u001b[0m\n",
            "\u001b[0;31mImportError\u001b[0m: cannot import name 'PAM' from 'gensim.models' (/usr/local/lib/python3.10/dist-packages/gensim/models/__init__.py)",
            "",
            "\u001b[0;31m---------------------------------------------------------------------------\u001b[0;32m\nNOTE: If your import is failing due to a missing package, you can\nmanually install dependencies using either !pip or !apt.\n\nTo view examples of installing some common dependencies, click the\n\"Open Examples\" button below.\n\u001b[0;31m---------------------------------------------------------------------------\u001b[0m\n"
          ],
          "errorDetails": {
            "actions": [
              {
                "action": "open_url",
                "actionText": "Open Examples",
                "url": "/notebooks/snippets/importing_libraries.ipynb"
              }
            ]
          }
        }
      ]
    },
    {
      "cell_type": "code",
      "source": [
        "import nltk\n",
        "nltk.download('punkt')"
      ],
      "metadata": {
        "id": "6mzNgKd1HURO"
      },
      "execution_count": null,
      "outputs": []
    },
    {
      "cell_type": "code",
      "source": [
        "top_50_disaster_words = return_top_words(disaster_tweets,50)\n",
        "top_50_nondisaster_words = return_top_words(non_disaster_tweets,50)"
      ],
      "metadata": {
        "id": "Tqe8m0jSvvsA"
      },
      "execution_count": null,
      "outputs": []
    },
    {
      "cell_type": "code",
      "source": [
        "import nltk\n",
        "nltk.download('punkt')"
      ],
      "metadata": {
        "id": "tIE4j-95AeQP"
      },
      "execution_count": null,
      "outputs": []
    },
    {
      "cell_type": "code",
      "source": [
        "top_200_disaster_words = return_top_words(disaster_tweets,400)\n",
        "top_200_nondisaster_words = return_top_words(non_disaster_tweets,400)\n",
        "top_disaster_exclusive = list(set(top_200_disaster_words).difference(set(top_200_nondisaster_words)))\n",
        "top_nondisaster_exclusive = list(set(top_200_nondisaster_words).difference(set(top_200_disaster_words)))"
      ],
      "metadata": {
        "id": "RfAvSGc6vzHg"
      },
      "execution_count": null,
      "outputs": []
    },
    {
      "cell_type": "code",
      "source": [
        "total_vocab = top_disaster_exclusive + top_nondisaster_exclusive"
      ],
      "metadata": {
        "id": "ONJMNsWqv1GH"
      },
      "execution_count": null,
      "outputs": []
    },
    {
      "cell_type": "code",
      "source": [
        "for word in total_vocab:\n",
        "    train_data['Is_'+word+'_present'] = train_data['text'].apply(lambda x: (word in x)*1)\n",
        "    test_data['Is_'+word+'_present'] = test_data['text'].apply(lambda x: (word in x)*1)"
      ],
      "metadata": {
        "id": "Pz0oM1qGv4J_"
      },
      "execution_count": null,
      "outputs": []
    },
    {
      "cell_type": "code",
      "source": [
        "from sklearn.feature_extraction.text import TfidfVectorizer\n",
        "tf_idf = TfidfVectorizer(ngram_range=(1, 3),\n",
        "                         binary=True,\n",
        "                         max_features = 5000,\n",
        "                         smooth_idf=False)\n",
        "X_train_tfidf = tf_idf.fit_transform(train_data['text'])\n",
        "X_test_tfidf = tf_idf.transform(test_data['text'])\n",
        "tf_kw = TfidfVectorizer(ngram_range = (1,2),\n",
        "                        binary = True,\n",
        "                        max_features = 1500,\n",
        "                        smooth_idf = False)\n",
        "kw_train_tfidf = tf_kw.fit_transform(train_data['keyword'])\n",
        "kw_test_tfidf = tf_kw.transform(test_data['keyword'])\n",
        "tf_location = TfidfVectorizer(ngram_range = (1,2),\n",
        "                              binary = True,\n",
        "                              max_features = 1500,\n",
        "                              smooth_idf = False)\n",
        "location_train_tfidf = tf_location.fit_transform(train_data['location'])\n",
        "location_test_tfidf = tf_location.transform(test_data['location'])"
      ],
      "metadata": {
        "id": "XtEscMnAv6iQ"
      },
      "execution_count": null,
      "outputs": []
    },
    {
      "cell_type": "code",
      "source": [
        "train_data = pd.concat([train_data,pd.DataFrame(X_train_tfidf.toarray(),\n",
        "                                                columns = ['text_contains_'+ str(text) for text in tf_idf.get_feature_names_out()]),\n",
        "                        pd.DataFrame(kw_train_tfidf.toarray(),\n",
        "                                     columns = ['keyword_contains_'+str(text) for text in tf_kw.get_feature_names_out()]),\n",
        "                        pd.DataFrame(location_train_tfidf.toarray(),\n",
        "                                     columns = ['location_contains_'+str(text) for text in tf_location.get_feature_names_out()])],axis = 1)\n",
        "test_data = pd.concat([test_data,pd.DataFrame(X_test_tfidf.toarray(),\n",
        "                                              columns = ['text_contains_'+ str(text) for text in tf_idf.get_feature_names_out()]),\n",
        "                       pd.DataFrame(kw_test_tfidf.toarray(),\n",
        "                                    columns = ['keyword_contains_'+str(text) for text in tf_kw.get_feature_names_out()]),\n",
        "                       pd.DataFrame(location_test_tfidf.toarray(),\n",
        "                                    columns = ['location_contains_'+str(text) for text in tf_location.get_feature_names_out()])],axis = 1)"
      ],
      "metadata": {
        "id": "-kNN7RyBv-Y4"
      },
      "execution_count": null,
      "outputs": []
    },
    {
      "cell_type": "code",
      "source": [
        "def create_vec(dataframe):\n",
        "    texts = dataframe['text'].tolist()\n",
        "    vectors = []\n",
        "    for doc in nlp.pipe(texts):\n",
        "        vectors.append(list(doc.vector))\n",
        "    df = pd.DataFrame(vectors,columns = ['vec_'+str(i) for i in range(300)])\n",
        "    return df\n",
        "vec_train = create_vec(train_data)\n",
        "vec_test = create_vec(test_data)\n",
        "train_data = pd.concat([train_data,vec_train],axis = 1)\n",
        "test_data = pd.concat([test_data,vec_test],axis = 1)\n"
      ],
      "metadata": {
        "id": "PWBr0eq_wBfN"
      },
      "execution_count": null,
      "outputs": []
    },
    {
      "cell_type": "code",
      "source": [
        "train_data = train_data.drop(['keyword','location','text'],axis = 1)\n",
        "test_data = test_data.drop(['keyword','location','text'],axis = 1)"
      ],
      "metadata": {
        "id": "DUzO1v84wb5A"
      },
      "execution_count": null,
      "outputs": []
    },
    {
      "cell_type": "code",
      "source": [
        "X_train = train_data.drop('target',axis = 1)\n",
        "Y_train = train_data['target']\n",
        "print('target' in test_data.columns)"
      ],
      "metadata": {
        "id": "HEknKcvOwki3"
      },
      "execution_count": null,
      "outputs": []
    },
    {
      "cell_type": "code",
      "source": [
        "len(train_data.columns)"
      ],
      "metadata": {
        "id": "H-dB11oWwm8Q"
      },
      "execution_count": null,
      "outputs": []
    },
    {
      "cell_type": "code",
      "source": [
        "from sklearn.ensemble import RandomForestClassifier as rfc\n",
        "from sklearn.metrics import classification_report\n",
        "forest = rfc(n_estimators = 128,max_depth = 8,min_samples_split = 15,\n",
        "             class_weight = {0:1,1:1.6},oob_score = True)\n",
        "forest.fit(X_train,Y_train)\n",
        "print(forest.oob_score_)\n",
        "Y_pred_train = forest.predict(X_train)\n",
        "print(classification_report(Y_pred_train,Y_train))"
      ],
      "metadata": {
        "id": "0bhCMK5dwpda"
      },
      "execution_count": null,
      "outputs": []
    },
    {
      "cell_type": "code",
      "source": [
        "from sklearn.model_selection import StratifiedKFold, cross_val_score\n",
        "\n",
        "def get_auc_CV(model,X_train,Y_train):\n",
        "    \"\"\"\n",
        "    Return the average AUC score from cross-validation.\n",
        "    \"\"\"\n",
        "    # Set KFold to shuffle data before the split\n",
        "    kf = StratifiedKFold(5, shuffle=True, random_state=1)\n",
        "\n",
        "    # Get AUC scores\n",
        "    auc = cross_val_score(\n",
        "        model, X_train, Y_train, scoring=\"roc_auc\", cv=kf)\n",
        "\n",
        "    return auc.mean()"
      ],
      "metadata": {
        "id": "GzwpPhXkwuzJ"
      },
      "execution_count": null,
      "outputs": []
    },
    {
      "cell_type": "code",
      "source": [
        "\n",
        "import time\n",
        "from xgboost import XGBClassifier\n",
        "from sklearn.metrics import classification_report\n",
        "xgb = XGBClassifier(n_estimators=200,learning_rate = 0.2,max_depth = 8)\n",
        "training_start = time.perf_counter()\n",
        "xgb.fit(X_train, Y_train)\n",
        "training_end = time.perf_counter()\n",
        "prediction_start = time.perf_counter()\n",
        "pred_final = xgb.predict(test_data)\n",
        "pred_train = xgb.predict(X_train)\n",
        "print(classification_report(Y_train,pred_train))\n",
        "prediction_end = time.perf_counter()\n",
        "#acc_xgb = (preds == y_test).sum().astype(float) / len(preds)*100\n",
        "xgb_train_time = training_end-training_start\n",
        "xgb_prediction_time = prediction_end-prediction_start\n",
        "#print(\"XGBoost's prediction accuracy is: %3.2f\" % (acc_xgb))\n",
        "print(\"Time consumed for training: %4.3f\" % (xgb_train_time))\n",
        "print(\"Time consumed for prediction: %6.5f seconds\" % (xgb_prediction_time))"
      ],
      "metadata": {
        "id": "jYJxldcxwzQi"
      },
      "execution_count": null,
      "outputs": []
    },
    {
      "cell_type": "code",
      "source": [
        "import pickle\n",
        "\n",
        "with open(\"xgb_model.pkl\", \"wb\") as f:\n",
        "    pickle.dump(xgb, f)"
      ],
      "metadata": {
        "id": "JNDu7PZq9sqY"
      },
      "execution_count": null,
      "outputs": []
    }
  ]
}