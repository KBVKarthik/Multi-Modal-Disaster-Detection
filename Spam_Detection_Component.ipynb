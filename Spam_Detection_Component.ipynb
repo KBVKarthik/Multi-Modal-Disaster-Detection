{
  "cells": [
    {
      "cell_type": "code",
      "execution_count": null,
      "id": "e8d622cd",
      "metadata": {
        "id": "e8d622cd"
      },
      "outputs": [],
      "source": [
        "import joblib\n",
        "\n",
        "import numpy as np\n",
        "import pandas as pd\n",
        "import matplotlib.pyplot as plt\n",
        "import seaborn as sns\n",
        "\n",
        "from xgboost import XGBClassifier\n",
        "from sklearn.model_selection import train_test_split, GridSearchCV\n",
        "from sklearn.naive_bayes import MultinomialNB\n",
        "from sklearn.linear_model import LogisticRegression\n",
        "from sklearn.svm import SVC\n",
        "from sklearn.tree import DecisionTreeClassifier\n",
        "from sklearn.ensemble import RandomForestClassifier, BaggingClassifier, GradientBoostingClassifier, AdaBoostClassifier\n",
        "from sklearn.metrics import accuracy_score,fbeta_score, precision_score, recall_score, roc_curve, auc"
      ]
    },
    {
      "cell_type": "code",
      "execution_count": null,
      "id": "1049ecba",
      "metadata": {
        "id": "1049ecba"
      },
      "outputs": [],
      "source": [
        "%matplotlib inline\n",
        "sns.set_theme()"
      ]
    },
    {
      "cell_type": "code",
      "execution_count": null,
      "id": "7632e4aa",
      "metadata": {
        "id": "7632e4aa",
        "outputId": "8e9ecc4b-e5aa-490c-8432-8bc782837350"
      },
      "outputs": [
        {
          "name": "stdout",
          "output_type": "stream",
          "text": [
            "X Shape: (12720, 10000)\n",
            "Y Shape: (12720,)\n"
          ]
        }
      ],
      "source": [
        "X = np.load(\"./dataset/SDC_X.npy\")\n",
        "Y = np.load(\"./dataset/SDC_Y.npy\")\n",
        "\n",
        "print(\"X Shape:\", X.shape)\n",
        "print(\"Y Shape:\", Y.shape)"
      ]
    },
    {
      "cell_type": "code",
      "execution_count": null,
      "id": "7a424098",
      "metadata": {
        "id": "7a424098"
      },
      "outputs": [],
      "source": [
        "models = {\n",
        "    \"logistic_regression\": {\n",
        "        \"instance\": LogisticRegression(max_iter=500),\n",
        "        \"params\": {\n",
        "            \"C\": [0.001, 0.01, 0.1, 1, 10, 100],\n",
        "        }\n",
        "    },\n",
        "    \"multinominal_naive_bayes\": {\n",
        "        \"instance\": MultinomialNB(),\n",
        "        \"params\": { }\n",
        "    },\n",
        "    \"decision_tree\": {\n",
        "        \"instance\": DecisionTreeClassifier(),\n",
        "        \"params\": { \n",
        "            \"criterion\" : [\"gini\"]\n",
        "        }\n",
        "    },\n",
        "    \"random_forest\": {\n",
        "        \"instance\": RandomForestClassifier(),\n",
        "        \"params\": {\n",
        "            \"n_estimators\": [1, 10, 100, 1000]\n",
        "        }\n",
        "    },\n",
        "    \"svm_linear\": {\n",
        "        \"instance\": SVC(probability=True, gamma=\"auto\", kernel=\"linear\"),\n",
        "        \"params\": {\n",
        "            \"C\": [1, 10, 100],\n",
        "        }\n",
        "    },\n",
        "    \"svm_rbf\": {\n",
        "        \"instance\": SVC(probability=True, kernel=\"rbf\"),\n",
        "        \"params\": {\n",
        "            \"C\": [1, 10, 100],\n",
        "            \"gamma\": [0.1, 0.2, 0.3, 0.4, 0.5, 0.6, 0.7, 0.8]\n",
        "        }\n",
        "    },\n",
        "    \n",
        "}"
      ]
    },
    {
      "cell_type": "code",
      "execution_count": null,
      "id": "bdb83183",
      "metadata": {
        "id": "bdb83183",
        "outputId": "e3e8c5df-9c85-4619-ce10-bf83100af549"
      },
      "outputs": [
        {
          "name": "stdout",
          "output_type": "stream",
          "text": [
            "Training logistic_regression\n",
            "Training multinominal_naive_bayes\n",
            "Training decision_tree\n",
            "Training random_forest\n",
            "Training svm_linear\n",
            "Training svm_rbf\n"
          ]
        }
      ],
      "source": [
        "scores = []\n",
        "best_estimators = {}\n",
        "\n",
        "X_train, X_test, Y_train, Y_test = train_test_split(X, Y, test_size = 0.1, random_state = 1)\n",
        "\n",
        "for model_name, config in models.items():\n",
        "    print(\"Training\", model_name)\n",
        "    classifier = GridSearchCV(\n",
        "        estimator=config[\"instance\"],\n",
        "        param_grid=config[\"params\"],\n",
        "        cv=5,\n",
        "        scoring=\"accuracy\"\n",
        "    )\n",
        "    \n",
        "    classifier.fit(X_train, Y_train)\n",
        "    \n",
        "    scores.append({\n",
        "        \"model\" : model_name,\n",
        "        \"train_score\" : classifier.best_score_,\n",
        "        \"test_score\" : classifier.best_estimator_.score(X_test, Y_test),\n",
        "        \"params\" : classifier.best_params_\n",
        "    })\n",
        "    \n",
        "    best_estimators[model_name] = classifier.best_estimator_"
      ]
    },
    {
      "cell_type": "code",
      "execution_count": null,
      "id": "7cd5afad",
      "metadata": {
        "id": "7cd5afad",
        "outputId": "86a8a138-2c0a-4a73-8df1-f165e98d4627"
      },
      "outputs": [
        {
          "data": {
            "text/html": [
              "<div>\n",
              "<style scoped>\n",
              "    .dataframe tbody tr th:only-of-type {\n",
              "        vertical-align: middle;\n",
              "    }\n",
              "\n",
              "    .dataframe tbody tr th {\n",
              "        vertical-align: top;\n",
              "    }\n",
              "\n",
              "    .dataframe thead th {\n",
              "        text-align: right;\n",
              "    }\n",
              "</style>\n",
              "<table border=\"1\" class=\"dataframe\">\n",
              "  <thead>\n",
              "    <tr style=\"text-align: right;\">\n",
              "      <th></th>\n",
              "      <th>model</th>\n",
              "      <th>train_score</th>\n",
              "      <th>test_score</th>\n",
              "      <th>params</th>\n",
              "    </tr>\n",
              "  </thead>\n",
              "  <tbody>\n",
              "    <tr>\n",
              "      <th>0</th>\n",
              "      <td>logistic_regression</td>\n",
              "      <td>0.828092</td>\n",
              "      <td>0.823113</td>\n",
              "      <td>{'C': 1}</td>\n",
              "    </tr>\n",
              "    <tr>\n",
              "      <th>1</th>\n",
              "      <td>multinominal_naive_bayes</td>\n",
              "      <td>0.828353</td>\n",
              "      <td>0.831761</td>\n",
              "      <td>{}</td>\n",
              "    </tr>\n",
              "    <tr>\n",
              "      <th>2</th>\n",
              "      <td>decision_tree</td>\n",
              "      <td>0.714536</td>\n",
              "      <td>0.723270</td>\n",
              "      <td>{'criterion': 'gini'}</td>\n",
              "    </tr>\n",
              "    <tr>\n",
              "      <th>3</th>\n",
              "      <td>random_forest</td>\n",
              "      <td>0.795772</td>\n",
              "      <td>0.807390</td>\n",
              "      <td>{'n_estimators': 1000}</td>\n",
              "    </tr>\n",
              "  </tbody>\n",
              "</table>\n",
              "</div>"
            ],
            "text/plain": [
              "                      model  train_score  test_score                  params\n",
              "0       logistic_regression     0.828092    0.823113                {'C': 1}\n",
              "1  multinominal_naive_bayes     0.828353    0.831761                      {}\n",
              "2             decision_tree     0.714536    0.723270   {'criterion': 'gini'}\n",
              "3             random_forest     0.795772    0.807390  {'n_estimators': 1000}"
            ]
          },
          "execution_count": 6,
          "metadata": {},
          "output_type": "execute_result"
        }
      ],
      "source": [
        "result = pd.DataFrame(scores, columns=[\"model\", \"train_score\", \"test_score\", \"params\"])\n",
        "result.head()"
      ]
    },
    {
      "cell_type": "code",
      "execution_count": null,
      "id": "be3c3cbe",
      "metadata": {
        "id": "be3c3cbe"
      },
      "outputs": [],
      "source": [
        "test_split_sizes = [0.1, 0.2, 0.3, 0.4, 0.5]\n",
        "\n",
        "def train(X, Y, Classifier, name, params={}):\n",
        "    scores = {}\n",
        "    \n",
        "    print(\"Training\", name, \"\\n\")\n",
        "    \n",
        "    for size in test_split_sizes:    \n",
        "        X_train, X_test, Y_train, Y_test = train_test_split(X, Y, test_size = size, random_state = 1)\n",
        "        \n",
        "        model = Classifier(**params)\n",
        "        model.fit(X_train, Y_train)\n",
        "        \n",
        "        Y_pred = model.predict(X_test)\n",
        "\n",
        "        \n",
        "        scores[\"{:.0f}%\".format(size * 100)] = {\n",
        "            \"Accuracy\" : accuracy_score(Y_test, Y_pred),\n",
        "            \"F-0.5\": fbeta_score(Y_test,Y_pred, beta=0.5),\n",
        "            \"F-1\": fbeta_score(Y_test,Y_pred, beta=1),\n",
        "            \"Precision\" : precision_score(Y_test,Y_pred),\n",
        "            \"Recall\" : recall_score(Y_test,Y_pred),\n",
        "            \"ROC\": roc_curve(Y_test, Y_pred)\n",
        "        }\n",
        "        \n",
        "        idx = \"{:.0f}%\".format(size * 100)\n",
        "        \n",
        "        print(\"Test Size={:.2f} Accuracy={:.2f} Precision={:.2f} Recall={:.2f} F-1 Score={:.2f} F-0.5 Score={:.2f}\".format(size, scores[idx][\"Accuracy\"], scores[idx][\"Accuracy\"], scores[idx][\"Precision\"], scores[idx][\"Recall\"], scores[idx][\"F-1\"], scores[idx][\"F-0.5\"]))\n",
        "        \n",
        "        del X_train, X_test, Y_train, Y_test\n",
        "    \n",
        "    return scores"
      ]
    },
    {
      "cell_type": "code",
      "execution_count": null,
      "id": "583c654b",
      "metadata": {
        "scrolled": true,
        "id": "583c654b",
        "outputId": "11c8464d-bebd-4c93-ca81-d7b1c288d230"
      },
      "outputs": [
        {
          "name": "stdout",
          "output_type": "stream",
          "text": [
            "Training Logistics Regression \n",
            "\n",
            "Test Size=0.10 Accuracy=0.82 Precision=0.82 Recall=0.82 F-1 Score=0.82 F-0.5 Score=0.82\n",
            "Test Size=0.20 Accuracy=0.82 Precision=0.82 Recall=0.81 F-1 Score=0.82 F-0.5 Score=0.82\n",
            "Test Size=0.30 Accuracy=0.82 Precision=0.82 Recall=0.81 F-1 Score=0.83 F-0.5 Score=0.82\n",
            "Test Size=0.40 Accuracy=0.82 Precision=0.82 Recall=0.82 F-1 Score=0.83 F-0.5 Score=0.82\n",
            "Test Size=0.50 Accuracy=0.82 Precision=0.82 Recall=0.80 F-1 Score=0.83 F-0.5 Score=0.82\n"
          ]
        }
      ],
      "source": [
        "logistic_regression_result = train(\n",
        "    X=X, \n",
        "    Y=Y, \n",
        "    Classifier=LogisticRegression, \n",
        "    name=\"Logistics Regression\",\n",
        "    params={\"C\": 1}\n",
        ")"
      ]
    },
    {
      "cell_type": "code",
      "execution_count": null,
      "id": "577e2fd6",
      "metadata": {
        "scrolled": true,
        "id": "577e2fd6",
        "outputId": "991e8979-36ff-45d2-fe06-e27ca79f9ff2"
      },
      "outputs": [
        {
          "name": "stdout",
          "output_type": "stream",
          "text": [
            "Training Multinomial Naive Bayes \n",
            "\n",
            "Test Size=0.10 Accuracy=0.83 Precision=0.83 Recall=0.80 F-1 Score=0.88 F-0.5 Score=0.84\n",
            "Test Size=0.20 Accuracy=0.82 Precision=0.82 Recall=0.80 F-1 Score=0.87 F-0.5 Score=0.83\n",
            "Test Size=0.30 Accuracy=0.83 Precision=0.83 Recall=0.80 F-1 Score=0.87 F-0.5 Score=0.83\n",
            "Test Size=0.40 Accuracy=0.83 Precision=0.83 Recall=0.80 F-1 Score=0.87 F-0.5 Score=0.83\n",
            "Test Size=0.50 Accuracy=0.82 Precision=0.82 Recall=0.79 F-1 Score=0.87 F-0.5 Score=0.83\n"
          ]
        }
      ],
      "source": [
        "naive_bayes_result = train(\n",
        "    X=X, \n",
        "    Y=Y, \n",
        "    Classifier=MultinomialNB, \n",
        "    name=\"Multinomial Naive Bayes\",\n",
        "    params={}\n",
        ")"
      ]
    },
    {
      "cell_type": "code",
      "execution_count": null,
      "id": "1b2211b9",
      "metadata": {
        "id": "1b2211b9",
        "outputId": "13bd9410-2f97-4099-c480-52117b3e49ba"
      },
      "outputs": [
        {
          "name": "stdout",
          "output_type": "stream",
          "text": [
            "Training Decision Tree \n",
            "\n",
            "Test Size=0.10 Accuracy=0.73 Precision=0.73 Recall=0.72 F-1 Score=0.73 F-0.5 Score=0.73\n",
            "Test Size=0.20 Accuracy=0.72 Precision=0.72 Recall=0.72 F-1 Score=0.72 F-0.5 Score=0.72\n",
            "Test Size=0.30 Accuracy=0.71 Precision=0.71 Recall=0.70 F-1 Score=0.73 F-0.5 Score=0.71\n",
            "Test Size=0.40 Accuracy=0.70 Precision=0.70 Recall=0.69 F-1 Score=0.71 F-0.5 Score=0.70\n",
            "Test Size=0.50 Accuracy=0.70 Precision=0.70 Recall=0.69 F-1 Score=0.73 F-0.5 Score=0.71\n"
          ]
        }
      ],
      "source": [
        "decision_tree_result = train(\n",
        "    X=X, \n",
        "    Y=Y, \n",
        "    Classifier=DecisionTreeClassifier, \n",
        "    name=\"Decision Tree\",\n",
        "    params={\"criterion\" : \"gini\"}\n",
        ")"
      ]
    },
    {
      "cell_type": "code",
      "execution_count": null,
      "id": "992980cd",
      "metadata": {
        "id": "992980cd",
        "outputId": "f50c4bff-7a5e-49b8-d0d8-9c65137ac180"
      },
      "outputs": [
        {
          "name": "stdout",
          "output_type": "stream",
          "text": [
            "Training Support Vector Machine \n",
            "\n",
            "Test Size=0.10 Accuracy=0.83 Precision=0.83 Recall=0.83 F-1 Score=0.81 F-0.5 Score=0.82\n",
            "Test Size=0.20 Accuracy=0.82 Precision=0.82 Recall=0.82 F-1 Score=0.82 F-0.5 Score=0.82\n",
            "Test Size=0.30 Accuracy=0.83 Precision=0.83 Recall=0.82 F-1 Score=0.83 F-0.5 Score=0.82\n",
            "Test Size=0.40 Accuracy=0.82 Precision=0.82 Recall=0.82 F-1 Score=0.83 F-0.5 Score=0.82\n",
            "Test Size=0.50 Accuracy=0.82 Precision=0.82 Recall=0.80 F-1 Score=0.83 F-0.5 Score=0.82\n"
          ]
        }
      ],
      "source": [
        "svm_result = train(\n",
        "    X=X, \n",
        "    Y=Y, \n",
        "    Classifier=SVC, \n",
        "    name=\"Support Vector Machine\",\n",
        "    params={\"C\": 0.5, \"kernel\": \"linear\"}\n",
        ")"
      ]
    },
    {
      "cell_type": "code",
      "execution_count": null,
      "id": "8387a9c6",
      "metadata": {
        "scrolled": true,
        "id": "8387a9c6",
        "outputId": "60b9afc0-5c89-4a6d-c1b6-685605f8fe19"
      },
      "outputs": [
        {
          "name": "stdout",
          "output_type": "stream",
          "text": [
            "Training Random Forest \n",
            "\n",
            "Test Size=0.10 Accuracy=0.81 Precision=0.81 Recall=0.81 F-1 Score=0.79 F-0.5 Score=0.80\n",
            "Test Size=0.20 Accuracy=0.78 Precision=0.78 Recall=0.79 F-1 Score=0.77 F-0.5 Score=0.78\n",
            "Test Size=0.30 Accuracy=0.78 Precision=0.78 Recall=0.77 F-1 Score=0.80 F-0.5 Score=0.78\n",
            "Test Size=0.40 Accuracy=0.78 Precision=0.78 Recall=0.77 F-1 Score=0.79 F-0.5 Score=0.78\n",
            "Test Size=0.50 Accuracy=0.78 Precision=0.78 Recall=0.76 F-1 Score=0.80 F-0.5 Score=0.78\n"
          ]
        }
      ],
      "source": [
        "random_forest_result = train(\n",
        "    X=X, \n",
        "    Y=Y, \n",
        "    Classifier=RandomForestClassifier, \n",
        "    name=\"Random Forest\",\n",
        "    params={\"n_estimators\" : 1000}\n",
        ")"
      ]
    },
    {
      "cell_type": "markdown",
      "id": "5022e25e",
      "metadata": {
        "id": "5022e25e"
      },
      "source": [
        "#### Exporting Results"
      ]
    },
    {
      "cell_type": "code",
      "execution_count": null,
      "id": "0f575291",
      "metadata": {
        "id": "0f575291"
      },
      "outputs": [],
      "source": [
        "def export_result(result, name):\n",
        "    table = pd.DataFrame(columns=[\"Test Size\", \"Accuracy\", \"Precision\", \"Recall\", \"F-1 Score\", \"F-0.5 Score\"])\n",
        "    \n",
        "    for test_size in result:\n",
        "        table.loc[table.shape[0]] = [\n",
        "            test_size, \n",
        "            round(result[test_size][\"Accuracy\"], 3), \n",
        "            round(result[test_size][\"Precision\"], 3), \n",
        "            round(result[test_size][\"Recall\"], 3), \n",
        "            round(result[test_size][\"F-1\"], 3), \n",
        "            round(result[test_size][\"F-0.5\"], 3)\n",
        "        ]\n",
        "    \n",
        "    table.to_csv(f\"./logs/{name}.csv\")\n",
        "    \n",
        "    return table"
      ]
    },
    {
      "cell_type": "code",
      "execution_count": null,
      "id": "3133c0df",
      "metadata": {
        "id": "3133c0df"
      },
      "outputs": [],
      "source": [
        "logistic_regression_result = export_result(logistic_regression_result, \"Logistic Regression\")\n",
        "naive_bayes_result = export_result(naive_bayes_result, \"Naive Bayes\")\n",
        "decision_tree_result = export_result(decision_tree_result, \"Decision Tree\")\n",
        "svm_result = export_result(svm_result, \"SVM\")\n",
        "random_forest_result = export_result(random_forest_result, \"Random Forest\")"
      ]
    },
    {
      "cell_type": "code",
      "execution_count": null,
      "id": "85c4e7cf",
      "metadata": {
        "id": "85c4e7cf"
      },
      "outputs": [],
      "source": [
        "logistic_regression_result"
      ]
    },
    {
      "cell_type": "code",
      "execution_count": null,
      "id": "9f4afa2f",
      "metadata": {
        "id": "9f4afa2f"
      },
      "outputs": [],
      "source": [
        "naive_bayes_result"
      ]
    },
    {
      "cell_type": "code",
      "execution_count": null,
      "id": "1fa05026",
      "metadata": {
        "id": "1fa05026"
      },
      "outputs": [],
      "source": [
        "decision_tree_result"
      ]
    },
    {
      "cell_type": "code",
      "execution_count": null,
      "id": "594b18b4",
      "metadata": {
        "scrolled": true,
        "id": "594b18b4"
      },
      "outputs": [],
      "source": [
        "svm_result"
      ]
    },
    {
      "cell_type": "code",
      "execution_count": null,
      "id": "1976b363",
      "metadata": {
        "id": "1976b363"
      },
      "outputs": [],
      "source": [
        "random_forest_result"
      ]
    },
    {
      "cell_type": "markdown",
      "id": "5f0c6570",
      "metadata": {
        "id": "5f0c6570"
      },
      "source": [
        "#### Plotting Results"
      ]
    },
    {
      "cell_type": "code",
      "execution_count": null,
      "id": "50606633",
      "metadata": {
        "id": "50606633"
      },
      "outputs": [],
      "source": [
        "train_split_sizes = 1 - np.array(test_split_sizes)"
      ]
    },
    {
      "cell_type": "code",
      "execution_count": null,
      "id": "c2e8709d",
      "metadata": {
        "id": "c2e8709d"
      },
      "outputs": [],
      "source": [
        "plt.figure(figsize=(8, 6), dpi=80)\n",
        "\n",
        "plt.plot(train_split_sizes * 100, logistic_regression_result[\"Accuracy\"], label=\"Logistic Regression\")\n",
        "plt.plot(train_split_sizes * 100, naive_bayes_result[\"Accuracy\"], label=\"Naive Bayes\")\n",
        "plt.plot(train_split_sizes * 100, decision_tree_result[\"Accuracy\"], label=\"Decision Tree\")\n",
        "plt.plot(train_split_sizes * 100, svm_result[\"Accuracy\"], label=\"Support Vector Machine\")\n",
        "plt.plot(train_split_sizes * 100, random_forest_result[\"Accuracy\"], label=\"Random Forest\")\n",
        "\n",
        "plt.xlabel(\"Training Set Size (%)\")\n",
        "plt.ylabel(\"Accuracy\")\n",
        "\n",
        "plt.legend()\n",
        "\n",
        "plt.show()"
      ]
    },
    {
      "cell_type": "code",
      "execution_count": null,
      "id": "eac309a2",
      "metadata": {
        "id": "eac309a2"
      },
      "outputs": [],
      "source": [
        "plt.figure(figsize=(8, 6), dpi=80)\n",
        "\n",
        "plt.plot(train_split_sizes * 100, logistic_regression_result[\"Precision\"], label=\"Logistic Regression\")\n",
        "plt.plot(train_split_sizes * 100, naive_bayes_result[\"Precision\"], label=\"Naive Bayes\")\n",
        "plt.plot(train_split_sizes * 100, decision_tree_result[\"Precision\"], label=\"Decision Tree\")\n",
        "plt.plot(train_split_sizes * 100, svm_result[\"Precision\"], label=\"Support Vector Machine\")\n",
        "plt.plot(train_split_sizes * 100, random_forest_result[\"Precision\"], label=\"Random Forest\")\n",
        "\n",
        "plt.xlabel(\"Training Set Size (%)\")\n",
        "plt.ylabel(\"Precision\")\n",
        "\n",
        "plt.legend()\n",
        "\n",
        "plt.show()"
      ]
    },
    {
      "cell_type": "code",
      "execution_count": null,
      "id": "351dc35a",
      "metadata": {
        "id": "351dc35a"
      },
      "outputs": [],
      "source": [
        "plt.figure(figsize=(8, 6), dpi=80)\n",
        "\n",
        "plt.plot(train_split_sizes * 100, logistic_regression_result[\"Recall\"], label=\"Logistic Regression\")\n",
        "plt.plot(train_split_sizes * 100, naive_bayes_result[\"Recall\"], label=\"Naive Bayes\")\n",
        "plt.plot(train_split_sizes * 100, decision_tree_result[\"Recall\"], label=\"Decision Tree\")\n",
        "plt.plot(train_split_sizes * 100, svm_result[\"Recall\"], label=\"Support Vector Machine\")\n",
        "plt.plot(train_split_sizes * 100, random_forest_result[\"Recall\"], label=\"Random Forest\")\n",
        "\n",
        "plt.xlabel(\"Training Set Size (%)\")\n",
        "plt.ylabel(\"Recall\")\n",
        "\n",
        "plt.legend()\n",
        "\n",
        "plt.show()"
      ]
    },
    {
      "cell_type": "code",
      "execution_count": null,
      "id": "9583c39f",
      "metadata": {
        "id": "9583c39f"
      },
      "outputs": [],
      "source": [
        "plt.figure(figsize=(8, 6), dpi=80)\n",
        "\n",
        "plt.plot(train_split_sizes * 100, logistic_regression_result[\"F-1 Score\"], label=\"Logistic Regression\")\n",
        "plt.plot(train_split_sizes * 100, naive_bayes_result[\"F-1 Score\"], label=\"Naive Bayes\")\n",
        "plt.plot(train_split_sizes * 100, decision_tree_result[\"F-1 Score\"], label=\"Decision Tree\")\n",
        "plt.plot(train_split_sizes * 100, svm_result[\"F-1 Score\"], label=\"Support Vector Machine\")\n",
        "plt.plot(train_split_sizes * 100, random_forest_result[\"F-1 Score\"], label=\"Random Forest\")\n",
        "\n",
        "plt.xlabel(\"Training Set Size (%)\")\n",
        "plt.ylabel(\"F-1 Score\")\n",
        "\n",
        "plt.legend()\n",
        "\n",
        "plt.show()"
      ]
    },
    {
      "cell_type": "code",
      "execution_count": null,
      "id": "74b3b3ad",
      "metadata": {
        "id": "74b3b3ad"
      },
      "outputs": [],
      "source": [
        "plt.figure(figsize=(8, 6), dpi=80)\n",
        "\n",
        "plt.plot(train_split_sizes * 100, logistic_regression_result[\"F-0.5 Score\"], label=\"Logistic Regression\")\n",
        "plt.plot(train_split_sizes * 100, naive_bayes_result[\"F-0.5 Score\"], label=\"Naive Bayes\")\n",
        "plt.plot(train_split_sizes * 100, decision_tree_result[\"F-0.5 Score\"], label=\"Decision Tree\")\n",
        "plt.plot(train_split_sizes * 100, svm_result[\"F-0.5 Score\"], label=\"Support Vector Machine\")\n",
        "plt.plot(train_split_sizes * 100, random_forest_result[\"F-0.5 Score\"], label=\"Random Forest\")\n",
        "\n",
        "plt.xlabel(\"Training Set Size (%)\")\n",
        "plt.ylabel(\"F-0.5 Score\")\n",
        "\n",
        "plt.legend()\n",
        "\n",
        "plt.show()"
      ]
    },
    {
      "cell_type": "code",
      "execution_count": null,
      "id": "8eda760c",
      "metadata": {
        "id": "8eda760c"
      },
      "outputs": [],
      "source": [
        "X_train, X_test, Y_train, Y_test = train_test_split(X, Y, test_size = 0.1, random_state = 1)"
      ]
    },
    {
      "cell_type": "code",
      "execution_count": null,
      "id": "fb92ffeb",
      "metadata": {
        "id": "fb92ffeb"
      },
      "outputs": [],
      "source": [
        "logistic_regression_model = LogisticRegression()\n",
        "naive_bayes_model = MultinomialNB()\n",
        "decision_tree_model = DecisionTreeClassifier()\n",
        "svm_model = SVC()\n",
        "random_forest_model = RandomForestClassifier()"
      ]
    },
    {
      "cell_type": "code",
      "execution_count": null,
      "id": "b657df16",
      "metadata": {
        "id": "b657df16"
      },
      "outputs": [],
      "source": [
        "def generate_roc(model, rnd=False):\n",
        "    model.fit(X_train, Y_train)\n",
        "    Y_pred = model.predict(X_test)\n",
        "    FPR, TPR, Threshold = roc_curve(Y_test, Y_pred)\n",
        "    AUC = auc(FPR, TPR)\n",
        "    return {\"FPR\": FPR, \"TPR\": TPR, \"AUC\": AUC} "
      ]
    },
    {
      "cell_type": "code",
      "execution_count": null,
      "id": "bff13e9d",
      "metadata": {
        "id": "bff13e9d"
      },
      "outputs": [],
      "source": [
        "roc_logistic_regression = generate_roc(logistic_regression_model)\n",
        "roc_naive_bayes = generate_roc(naive_bayes_model)\n",
        "roc_svm = generate_roc(svm_model)\n",
        "roc_decision_tree = generate_roc(decision_tree_model)\n",
        "roc_random_forest = generate_roc(random_forest_model)"
      ]
    },
    {
      "cell_type": "code",
      "execution_count": null,
      "id": "c690075e",
      "metadata": {
        "scrolled": false,
        "id": "c690075e"
      },
      "outputs": [],
      "source": [
        "plt.figure(figsize=(8, 6), dpi=80)\n",
        "\n",
        "plt.plot(\n",
        "    roc_logistic_regression['FPR'], \n",
        "    roc_logistic_regression['TPR'], \n",
        "    label=f'Logistic Regression (AUC = {round(roc_logistic_regression[\"AUC\"], 3)})'\n",
        ")\n",
        "\n",
        "plt.plot(\n",
        "    roc_naive_bayes['FPR'], \n",
        "    roc_naive_bayes['TPR'], \n",
        "    label=f'Naive Bayes (AUC = {round(roc_naive_bayes[\"AUC\"], 3)})'\n",
        ")\n",
        "\n",
        "plt.plot(\n",
        "    roc_decision_tree['FPR'], \n",
        "    roc_decision_tree['TPR'], \n",
        "    label=f'Decision Tree (AUC = {round(roc_decision_tree[\"AUC\"], 3)})'\n",
        ")\n",
        "\n",
        "plt.plot(\n",
        "    roc_svm['FPR'], \n",
        "    roc_svm['TPR'], \n",
        "    label=f'Support Vector Machine (AUC = {round(roc_svm[\"AUC\"], 3)})'\n",
        ")\n",
        "\n",
        "plt.plot(\n",
        "    roc_random_forest['FPR'], \n",
        "    roc_random_forest['TPR'], \n",
        "    label=f'Random Forest (AUC = {round(roc_random_forest[\"AUC\"], 3)})'\n",
        ")\n",
        "\n",
        "plt.xlabel(\"False Positive Rate\")\n",
        "plt.ylabel(\"True Positive Rate\")\n",
        "\n",
        "plt.legend()\n",
        "\n",
        "plt.show()"
      ]
    },
    {
      "cell_type": "markdown",
      "id": "e722f11d",
      "metadata": {
        "id": "e722f11d"
      },
      "source": [
        "#### Optimising Result With Ensemble Models"
      ]
    },
    {
      "cell_type": "code",
      "execution_count": null,
      "id": "d2dce8da",
      "metadata": {
        "id": "d2dce8da"
      },
      "outputs": [],
      "source": [
        "X_train, X_test, Y_train, Y_test = train_test_split(X, Y, test_size = 0.1, random_state = 1)"
      ]
    },
    {
      "cell_type": "code",
      "execution_count": null,
      "id": "8de44a43",
      "metadata": {
        "id": "8de44a43"
      },
      "outputs": [],
      "source": [
        "BAG_model = BaggingClassifier(base_estimator=MultinomialNB(), n_estimators=500)\n",
        "BAG_model.fit(X_train, Y_train)\n",
        "Y_pred = BAG_model.predict(X_test)\n",
        "accuracy_score(Y_test, Y_pred)"
      ]
    },
    {
      "cell_type": "code",
      "execution_count": null,
      "id": "56a73109",
      "metadata": {
        "id": "56a73109"
      },
      "outputs": [],
      "source": [
        "GB_model = GradientBoostingClassifier(n_estimators=500, learning_rate=0.05, subsample=0.5)\n",
        "GB_model.fit(X_train, Y_train)\n",
        "Y_pred = GB_model.predict(X_test)\n",
        "accuracy_score(Y_test, Y_pred)"
      ]
    },
    {
      "cell_type": "code",
      "execution_count": null,
      "id": "bb46586e",
      "metadata": {
        "id": "bb46586e"
      },
      "outputs": [],
      "source": [
        "AB_model = AdaBoostClassifier(base_estimator=MultinomialNB(), n_estimators=500, learning_rate=0.05) # Add parameters\n",
        "AB_model.fit(X_train, Y_train)\n",
        "Y_pred = AB_model.predict(X_test)\n",
        "accuracy_score(Y_test, Y_pred)"
      ]
    },
    {
      "cell_type": "code",
      "execution_count": null,
      "id": "9fa94abf",
      "metadata": {
        "id": "9fa94abf"
      },
      "outputs": [],
      "source": [
        "XGB_model = XGBClassifier(n_estimators=2000, eta=0.05, subsample=0.5, colsample_bytree=0.5)\n",
        "XGB_model.fit(X_train, Y_train)\n",
        "Y_pred = XGB_model.predict(X_test)\n",
        "accuracy_score(Y_test, Y_pred)"
      ]
    },
    {
      "cell_type": "markdown",
      "id": "b769b313",
      "metadata": {
        "id": "b769b313"
      },
      "source": [
        "#### Saving The Best Model"
      ]
    },
    {
      "cell_type": "code",
      "execution_count": null,
      "id": "85737341",
      "metadata": {
        "id": "85737341"
      },
      "outputs": [],
      "source": [
        "joblib.dump(XGB_model, \"./models/SDC_XGB_MODEL\")"
      ]
    }
  ],
  "metadata": {
    "kernelspec": {
      "display_name": "Python 3.8.8 ('base')",
      "language": "python",
      "name": "python3"
    },
    "language_info": {
      "codemirror_mode": {
        "name": "ipython",
        "version": 3
      },
      "file_extension": ".py",
      "mimetype": "text/x-python",
      "name": "python",
      "nbconvert_exporter": "python",
      "pygments_lexer": "ipython3",
      "version": "3.8.8"
    },
    "vscode": {
      "interpreter": {
        "hash": "30d15984fd22aa96de85f16433eec91bbe2faea5d46ed3d4d24713e4f4ec970c"
      }
    },
    "colab": {
      "provenance": []
    }
  },
  "nbformat": 4,
  "nbformat_minor": 5
}