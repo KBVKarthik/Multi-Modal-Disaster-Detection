{
  "nbformat": 4,
  "nbformat_minor": 0,
  "metadata": {
    "colab": {
      "provenance": []
    },
    "kernelspec": {
      "name": "python3",
      "display_name": "Python 3"
    },
    "language_info": {
      "name": "python"
    }
  },
  "cells": [
    {
      "cell_type": "code",
      "source": [
        "\n",
        "import numpy as np \n",
        "import pandas as pd \n",
        "import seaborn as sns\n",
        "sns.set_theme()\n",
        "\n",
        "import os\n",
        "for dirname, _, filenames in os.walk('./'):\n",
        "    for filename in filenames:\n",
        "        print(os.path.join(dirname, filename))\n"
      ],
      "metadata": {
        "colab": {
          "base_uri": "https://localhost:8080/"
        },
        "id": "mkCFRKZuuKRg",
        "outputId": "30596198-5f68-4cd2-bbb8-eb100abfceab"
      },
      "execution_count": null,
      "outputs": [
        {
          "output_type": "stream",
          "name": "stdout",
          "text": [
            "./test.csv\n",
            "./train.csv\n",
            "./.config/.last_survey_prompt.yaml\n",
            "./.config/active_config\n",
            "./.config/.last_update_check.json\n",
            "./.config/config_sentinel\n",
            "./.config/.last_opt_in_prompt.yaml\n",
            "./.config/gce\n",
            "./.config/logs/2023.05.03/13.30.53.412375.log\n",
            "./.config/logs/2023.05.03/13.31.21.082174.log\n",
            "./.config/logs/2023.05.03/13.31.20.347025.log\n",
            "./.config/logs/2023.05.03/13.30.18.933743.log\n",
            "./.config/logs/2023.05.03/13.29.51.883151.log\n",
            "./.config/logs/2023.05.03/13.30.45.111331.log\n",
            "./.config/configurations/config_default\n",
            "./sample_data/anscombe.json\n",
            "./sample_data/README.md\n",
            "./sample_data/mnist_test.csv\n",
            "./sample_data/mnist_train_small.csv\n",
            "./sample_data/california_housing_test.csv\n",
            "./sample_data/california_housing_train.csv\n"
          ]
        }
      ]
    },
    {
      "cell_type": "code",
      "source": [
        "train_data = pd.read_csv('./train.csv')\n",
        "test_data = pd.read_csv('./test.csv')\n",
        "print(train_data.shape)\n",
        "print(train_data.columns)\n",
        "print(test_data.shape)\n",
        "train_data.head()"
      ],
      "metadata": {
        "colab": {
          "base_uri": "https://localhost:8080/",
          "height": 261
        },
        "id": "x7Gstw9NuSnY",
        "outputId": "2b9fcc4a-c6f2-4086-b400-98de1fff25c0"
      },
      "execution_count": null,
      "outputs": [
        {
          "output_type": "stream",
          "name": "stdout",
          "text": [
            "(7613, 5)\n",
            "Index(['id', 'keyword', 'location', 'text', 'target'], dtype='object')\n",
            "(3263, 4)\n"
          ]
        },
        {
          "output_type": "execute_result",
          "data": {
            "text/plain": [
              "   id keyword location                                               text  \\\n",
              "0   1     NaN      NaN  Our Deeds are the Reason of this #earthquake M...   \n",
              "1   4     NaN      NaN             Forest fire near La Ronge Sask. Canada   \n",
              "2   5     NaN      NaN  All residents asked to 'shelter in place' are ...   \n",
              "3   6     NaN      NaN  13,000 people receive #wildfires evacuation or...   \n",
              "4   7     NaN      NaN  Just got sent this photo from Ruby #Alaska as ...   \n",
              "\n",
              "   target  \n",
              "0       1  \n",
              "1       1  \n",
              "2       1  \n",
              "3       1  \n",
              "4       1  "
            ],
            "text/html": [
              "\n",
              "  <div id=\"df-dc8e336a-f606-4fc5-9aa4-d269d20adfd9\">\n",
              "    <div class=\"colab-df-container\">\n",
              "      <div>\n",
              "<style scoped>\n",
              "    .dataframe tbody tr th:only-of-type {\n",
              "        vertical-align: middle;\n",
              "    }\n",
              "\n",
              "    .dataframe tbody tr th {\n",
              "        vertical-align: top;\n",
              "    }\n",
              "\n",
              "    .dataframe thead th {\n",
              "        text-align: right;\n",
              "    }\n",
              "</style>\n",
              "<table border=\"1\" class=\"dataframe\">\n",
              "  <thead>\n",
              "    <tr style=\"text-align: right;\">\n",
              "      <th></th>\n",
              "      <th>id</th>\n",
              "      <th>keyword</th>\n",
              "      <th>location</th>\n",
              "      <th>text</th>\n",
              "      <th>target</th>\n",
              "    </tr>\n",
              "  </thead>\n",
              "  <tbody>\n",
              "    <tr>\n",
              "      <th>0</th>\n",
              "      <td>1</td>\n",
              "      <td>NaN</td>\n",
              "      <td>NaN</td>\n",
              "      <td>Our Deeds are the Reason of this #earthquake M...</td>\n",
              "      <td>1</td>\n",
              "    </tr>\n",
              "    <tr>\n",
              "      <th>1</th>\n",
              "      <td>4</td>\n",
              "      <td>NaN</td>\n",
              "      <td>NaN</td>\n",
              "      <td>Forest fire near La Ronge Sask. Canada</td>\n",
              "      <td>1</td>\n",
              "    </tr>\n",
              "    <tr>\n",
              "      <th>2</th>\n",
              "      <td>5</td>\n",
              "      <td>NaN</td>\n",
              "      <td>NaN</td>\n",
              "      <td>All residents asked to 'shelter in place' are ...</td>\n",
              "      <td>1</td>\n",
              "    </tr>\n",
              "    <tr>\n",
              "      <th>3</th>\n",
              "      <td>6</td>\n",
              "      <td>NaN</td>\n",
              "      <td>NaN</td>\n",
              "      <td>13,000 people receive #wildfires evacuation or...</td>\n",
              "      <td>1</td>\n",
              "    </tr>\n",
              "    <tr>\n",
              "      <th>4</th>\n",
              "      <td>7</td>\n",
              "      <td>NaN</td>\n",
              "      <td>NaN</td>\n",
              "      <td>Just got sent this photo from Ruby #Alaska as ...</td>\n",
              "      <td>1</td>\n",
              "    </tr>\n",
              "  </tbody>\n",
              "</table>\n",
              "</div>\n",
              "      <button class=\"colab-df-convert\" onclick=\"convertToInteractive('df-dc8e336a-f606-4fc5-9aa4-d269d20adfd9')\"\n",
              "              title=\"Convert this dataframe to an interactive table.\"\n",
              "              style=\"display:none;\">\n",
              "        \n",
              "  <svg xmlns=\"http://www.w3.org/2000/svg\" height=\"24px\"viewBox=\"0 0 24 24\"\n",
              "       width=\"24px\">\n",
              "    <path d=\"M0 0h24v24H0V0z\" fill=\"none\"/>\n",
              "    <path d=\"M18.56 5.44l.94 2.06.94-2.06 2.06-.94-2.06-.94-.94-2.06-.94 2.06-2.06.94zm-11 1L8.5 8.5l.94-2.06 2.06-.94-2.06-.94L8.5 2.5l-.94 2.06-2.06.94zm10 10l.94 2.06.94-2.06 2.06-.94-2.06-.94-.94-2.06-.94 2.06-2.06.94z\"/><path d=\"M17.41 7.96l-1.37-1.37c-.4-.4-.92-.59-1.43-.59-.52 0-1.04.2-1.43.59L10.3 9.45l-7.72 7.72c-.78.78-.78 2.05 0 2.83L4 21.41c.39.39.9.59 1.41.59.51 0 1.02-.2 1.41-.59l7.78-7.78 2.81-2.81c.8-.78.8-2.07 0-2.86zM5.41 20L4 18.59l7.72-7.72 1.47 1.35L5.41 20z\"/>\n",
              "  </svg>\n",
              "      </button>\n",
              "      \n",
              "  <style>\n",
              "    .colab-df-container {\n",
              "      display:flex;\n",
              "      flex-wrap:wrap;\n",
              "      gap: 12px;\n",
              "    }\n",
              "\n",
              "    .colab-df-convert {\n",
              "      background-color: #E8F0FE;\n",
              "      border: none;\n",
              "      border-radius: 50%;\n",
              "      cursor: pointer;\n",
              "      display: none;\n",
              "      fill: #1967D2;\n",
              "      height: 32px;\n",
              "      padding: 0 0 0 0;\n",
              "      width: 32px;\n",
              "    }\n",
              "\n",
              "    .colab-df-convert:hover {\n",
              "      background-color: #E2EBFA;\n",
              "      box-shadow: 0px 1px 2px rgba(60, 64, 67, 0.3), 0px 1px 3px 1px rgba(60, 64, 67, 0.15);\n",
              "      fill: #174EA6;\n",
              "    }\n",
              "\n",
              "    [theme=dark] .colab-df-convert {\n",
              "      background-color: #3B4455;\n",
              "      fill: #D2E3FC;\n",
              "    }\n",
              "\n",
              "    [theme=dark] .colab-df-convert:hover {\n",
              "      background-color: #434B5C;\n",
              "      box-shadow: 0px 1px 3px 1px rgba(0, 0, 0, 0.15);\n",
              "      filter: drop-shadow(0px 1px 2px rgba(0, 0, 0, 0.3));\n",
              "      fill: #FFFFFF;\n",
              "    }\n",
              "  </style>\n",
              "\n",
              "      <script>\n",
              "        const buttonEl =\n",
              "          document.querySelector('#df-dc8e336a-f606-4fc5-9aa4-d269d20adfd9 button.colab-df-convert');\n",
              "        buttonEl.style.display =\n",
              "          google.colab.kernel.accessAllowed ? 'block' : 'none';\n",
              "\n",
              "        async function convertToInteractive(key) {\n",
              "          const element = document.querySelector('#df-dc8e336a-f606-4fc5-9aa4-d269d20adfd9');\n",
              "          const dataTable =\n",
              "            await google.colab.kernel.invokeFunction('convertToInteractive',\n",
              "                                                     [key], {});\n",
              "          if (!dataTable) return;\n",
              "\n",
              "          const docLinkHtml = 'Like what you see? Visit the ' +\n",
              "            '<a target=\"_blank\" href=https://colab.research.google.com/notebooks/data_table.ipynb>data table notebook</a>'\n",
              "            + ' to learn more about interactive tables.';\n",
              "          element.innerHTML = '';\n",
              "          dataTable['output_type'] = 'display_data';\n",
              "          await google.colab.output.renderOutput(dataTable, element);\n",
              "          const docLink = document.createElement('div');\n",
              "          docLink.innerHTML = docLinkHtml;\n",
              "          element.appendChild(docLink);\n",
              "        }\n",
              "      </script>\n",
              "    </div>\n",
              "  </div>\n",
              "  "
            ]
          },
          "metadata": {},
          "execution_count": 3
        }
      ]
    },
    {
      "cell_type": "code",
      "source": [
        "train_data = train_data.drop('id',axis = 1)\n",
        "test_data = test_data.drop('id',axis = 1)\n",
        "test_data.head()"
      ],
      "metadata": {
        "id": "6DP5GpOGubog",
        "colab": {
          "base_uri": "https://localhost:8080/",
          "height": 206
        },
        "outputId": "f8ce8550-61a6-4072-833c-e5649a1ebe7b"
      },
      "execution_count": null,
      "outputs": [
        {
          "output_type": "execute_result",
          "data": {
            "text/plain": [
              "  keyword location                                               text\n",
              "0     NaN      NaN                 Just happened a terrible car crash\n",
              "1     NaN      NaN  Heard about #earthquake is different cities, s...\n",
              "2     NaN      NaN  there is a forest fire at spot pond, geese are...\n",
              "3     NaN      NaN           Apocalypse lighting. #Spokane #wildfires\n",
              "4     NaN      NaN      Typhoon Soudelor kills 28 in China and Taiwan"
            ],
            "text/html": [
              "\n",
              "  <div id=\"df-1188a4e6-0a08-492d-8ceb-19d9b445c923\">\n",
              "    <div class=\"colab-df-container\">\n",
              "      <div>\n",
              "<style scoped>\n",
              "    .dataframe tbody tr th:only-of-type {\n",
              "        vertical-align: middle;\n",
              "    }\n",
              "\n",
              "    .dataframe tbody tr th {\n",
              "        vertical-align: top;\n",
              "    }\n",
              "\n",
              "    .dataframe thead th {\n",
              "        text-align: right;\n",
              "    }\n",
              "</style>\n",
              "<table border=\"1\" class=\"dataframe\">\n",
              "  <thead>\n",
              "    <tr style=\"text-align: right;\">\n",
              "      <th></th>\n",
              "      <th>keyword</th>\n",
              "      <th>location</th>\n",
              "      <th>text</th>\n",
              "    </tr>\n",
              "  </thead>\n",
              "  <tbody>\n",
              "    <tr>\n",
              "      <th>0</th>\n",
              "      <td>NaN</td>\n",
              "      <td>NaN</td>\n",
              "      <td>Just happened a terrible car crash</td>\n",
              "    </tr>\n",
              "    <tr>\n",
              "      <th>1</th>\n",
              "      <td>NaN</td>\n",
              "      <td>NaN</td>\n",
              "      <td>Heard about #earthquake is different cities, s...</td>\n",
              "    </tr>\n",
              "    <tr>\n",
              "      <th>2</th>\n",
              "      <td>NaN</td>\n",
              "      <td>NaN</td>\n",
              "      <td>there is a forest fire at spot pond, geese are...</td>\n",
              "    </tr>\n",
              "    <tr>\n",
              "      <th>3</th>\n",
              "      <td>NaN</td>\n",
              "      <td>NaN</td>\n",
              "      <td>Apocalypse lighting. #Spokane #wildfires</td>\n",
              "    </tr>\n",
              "    <tr>\n",
              "      <th>4</th>\n",
              "      <td>NaN</td>\n",
              "      <td>NaN</td>\n",
              "      <td>Typhoon Soudelor kills 28 in China and Taiwan</td>\n",
              "    </tr>\n",
              "  </tbody>\n",
              "</table>\n",
              "</div>\n",
              "      <button class=\"colab-df-convert\" onclick=\"convertToInteractive('df-1188a4e6-0a08-492d-8ceb-19d9b445c923')\"\n",
              "              title=\"Convert this dataframe to an interactive table.\"\n",
              "              style=\"display:none;\">\n",
              "        \n",
              "  <svg xmlns=\"http://www.w3.org/2000/svg\" height=\"24px\"viewBox=\"0 0 24 24\"\n",
              "       width=\"24px\">\n",
              "    <path d=\"M0 0h24v24H0V0z\" fill=\"none\"/>\n",
              "    <path d=\"M18.56 5.44l.94 2.06.94-2.06 2.06-.94-2.06-.94-.94-2.06-.94 2.06-2.06.94zm-11 1L8.5 8.5l.94-2.06 2.06-.94-2.06-.94L8.5 2.5l-.94 2.06-2.06.94zm10 10l.94 2.06.94-2.06 2.06-.94-2.06-.94-.94-2.06-.94 2.06-2.06.94z\"/><path d=\"M17.41 7.96l-1.37-1.37c-.4-.4-.92-.59-1.43-.59-.52 0-1.04.2-1.43.59L10.3 9.45l-7.72 7.72c-.78.78-.78 2.05 0 2.83L4 21.41c.39.39.9.59 1.41.59.51 0 1.02-.2 1.41-.59l7.78-7.78 2.81-2.81c.8-.78.8-2.07 0-2.86zM5.41 20L4 18.59l7.72-7.72 1.47 1.35L5.41 20z\"/>\n",
              "  </svg>\n",
              "      </button>\n",
              "      \n",
              "  <style>\n",
              "    .colab-df-container {\n",
              "      display:flex;\n",
              "      flex-wrap:wrap;\n",
              "      gap: 12px;\n",
              "    }\n",
              "\n",
              "    .colab-df-convert {\n",
              "      background-color: #E8F0FE;\n",
              "      border: none;\n",
              "      border-radius: 50%;\n",
              "      cursor: pointer;\n",
              "      display: none;\n",
              "      fill: #1967D2;\n",
              "      height: 32px;\n",
              "      padding: 0 0 0 0;\n",
              "      width: 32px;\n",
              "    }\n",
              "\n",
              "    .colab-df-convert:hover {\n",
              "      background-color: #E2EBFA;\n",
              "      box-shadow: 0px 1px 2px rgba(60, 64, 67, 0.3), 0px 1px 3px 1px rgba(60, 64, 67, 0.15);\n",
              "      fill: #174EA6;\n",
              "    }\n",
              "\n",
              "    [theme=dark] .colab-df-convert {\n",
              "      background-color: #3B4455;\n",
              "      fill: #D2E3FC;\n",
              "    }\n",
              "\n",
              "    [theme=dark] .colab-df-convert:hover {\n",
              "      background-color: #434B5C;\n",
              "      box-shadow: 0px 1px 3px 1px rgba(0, 0, 0, 0.15);\n",
              "      filter: drop-shadow(0px 1px 2px rgba(0, 0, 0, 0.3));\n",
              "      fill: #FFFFFF;\n",
              "    }\n",
              "  </style>\n",
              "\n",
              "      <script>\n",
              "        const buttonEl =\n",
              "          document.querySelector('#df-1188a4e6-0a08-492d-8ceb-19d9b445c923 button.colab-df-convert');\n",
              "        buttonEl.style.display =\n",
              "          google.colab.kernel.accessAllowed ? 'block' : 'none';\n",
              "\n",
              "        async function convertToInteractive(key) {\n",
              "          const element = document.querySelector('#df-1188a4e6-0a08-492d-8ceb-19d9b445c923');\n",
              "          const dataTable =\n",
              "            await google.colab.kernel.invokeFunction('convertToInteractive',\n",
              "                                                     [key], {});\n",
              "          if (!dataTable) return;\n",
              "\n",
              "          const docLinkHtml = 'Like what you see? Visit the ' +\n",
              "            '<a target=\"_blank\" href=https://colab.research.google.com/notebooks/data_table.ipynb>data table notebook</a>'\n",
              "            + ' to learn more about interactive tables.';\n",
              "          element.innerHTML = '';\n",
              "          dataTable['output_type'] = 'display_data';\n",
              "          await google.colab.output.renderOutput(dataTable, element);\n",
              "          const docLink = document.createElement('div');\n",
              "          docLink.innerHTML = docLinkHtml;\n",
              "          element.appendChild(docLink);\n",
              "        }\n",
              "      </script>\n",
              "    </div>\n",
              "  </div>\n",
              "  "
            ]
          },
          "metadata": {},
          "execution_count": 4
        }
      ]
    },
    {
      "cell_type": "code",
      "source": [
        "test_data = test_data.fillna('')\n",
        "train_data = train_data.fillna('')"
      ],
      "metadata": {
        "id": "NIB2i6tnucNg"
      },
      "execution_count": null,
      "outputs": []
    },
    {
      "cell_type": "code",
      "source": [
        "import re\n",
        "def keyword_correction(x):\n",
        "    try:\n",
        "        x = x.split(\"%20\")\n",
        "        x = ' '.join(x)\n",
        "        return x\n",
        "    except:\n",
        "        return x"
      ],
      "metadata": {
        "id": "Z4Ja1FEoue65"
      },
      "execution_count": null,
      "outputs": []
    },
    {
      "cell_type": "code",
      "source": [
        "train_data['keyword'] = train_data['keyword'].apply(lambda x: keyword_correction(x))\n",
        "test_data['keyword'] = test_data['keyword'].apply(lambda x: keyword_correction(x))"
      ],
      "metadata": {
        "id": "Nd6pSLjXuhuf"
      },
      "execution_count": null,
      "outputs": []
    },
    {
      "cell_type": "code",
      "source": [
        "from nltk.corpus import stopwords\n",
        "import string\n",
        "from bs4 import BeautifulSoup\n",
        "def text_cleaning(text):\n",
        "    forbidden_words = set(stopwords.words('english'))\n",
        "    if text:\n",
        "        text = ' '.join(text.split('.'))\n",
        "        text = re.sub(r'\\s+', ' ', re.sub('[^A-Za-z0-9]', ' ', text.strip().lower())).strip()\n",
        "        text = re.sub(r'\\W+', ' ', text.strip().lower()).strip()\n",
        "        text = [word for word in text.split() if word not in forbidden_words]\n",
        "        return text\n",
        "    return []\n",
        "\n",
        "puncts = [',', '.', '\"', ':', ')', '(', '-', '!', '?', '|', ';', \"'\", '$', '&', '/', '[', ']', '>', '%', '=', '#', '*', '+', '\\\\', '•',  '~', '@', '£',\n",
        " '·', '_', '{', '}', '©', '^', '®', '`',  '<', '→', '°', '€', '™', '›',  '♥', '←', '×', '§', '″', '′', 'Â', '█', '½', 'à', '…', '\\xa0', '\\t',\n",
        " '“', '★', '”', '–', '●', 'â', '►', '−', '¢', '²', '¬', '░', '¶', '↑', '±', '¿', '▾', '═', '¦', '║', '―', '¥', '▓', '—', '‹', '─', '\\u3000', '\\u202f',\n",
        " '▒', '：', '¼', '⊕', '▼', '▪', '†', '■', '’', '▀', '¨', '▄', '♫', '☆', 'é', '¯', '♦', '¤', '▲', 'è', '¸', '¾', 'Ã', '⋅', '‘', '∞', '«',\n",
        " '∙', '）', '↓', '、', '│', '（', '»', '，', '♪', '╩', '╚', '³', '・', '╦', '╣', '╔', '╗', '▬', '❤', 'ï', 'Ø', '¹', '≤', '‡', '√', ]\n",
        "\n",
        "mispell_dict = {\"aren't\" : \"are not\",\n",
        "\"can't\" : \"cannot\",\n",
        "\"couldn't\" : \"could not\",\n",
        "\"couldnt\" : \"could not\",\n",
        "\"didn't\" : \"did not\",\n",
        "\"doesn't\" : \"does not\",\n",
        "\"doesnt\" : \"does not\",\n",
        "\"don't\" : \"do not\",\n",
        "\"hadn't\" : \"had not\",\n",
        "\"hasn't\" : \"has not\",\n",
        "\"haven't\" : \"have not\",\n",
        "\"havent\" : \"have not\",\n",
        "\"he'd\" : \"he would\",\n",
        "\"he'll\" : \"he will\",\n",
        "\"he's\" : \"he is\",\n",
        "\"i'd\" : \"I would\",\n",
        "\"i'd\" : \"I had\",\n",
        "\"i'll\" : \"I will\",\n",
        "\"i'm\" : \"I am\",\n",
        "\"isn't\" : \"is not\",\n",
        "\"it's\" : \"it is\",\n",
        "\"it'll\":\"it will\",\n",
        "\"i've\" : \"I have\",\n",
        "\"let's\" : \"let us\",\n",
        "\"mightn't\" : \"might not\",\n",
        "\"mustn't\" : \"must not\",\n",
        "\"shan't\" : \"shall not\",\n",
        "\"she'd\" : \"she would\",\n",
        "\"she'll\" : \"she will\",\n",
        "\"she's\" : \"she is\",\n",
        "\"shouldn't\" : \"should not\",\n",
        "\"shouldnt\" : \"should not\",\n",
        "\"that's\" : \"that is\",\n",
        "\"thats\" : \"that is\",\n",
        "\"there's\" : \"there is\",\n",
        "\"theres\" : \"there is\",\n",
        "\"they'd\" : \"they would\",\n",
        "\"they'll\" : \"they will\",\n",
        "\"they're\" : \"they are\",\n",
        "\"theyre\":  \"they are\",\n",
        "\"they've\" : \"they have\",\n",
        "\"we'd\" : \"we would\",\n",
        "\"we're\" : \"we are\",\n",
        "\"weren't\" : \"were not\",\n",
        "\"we've\" : \"we have\",\n",
        "\"what'll\" : \"what will\",\n",
        "\"what're\" : \"what are\",\n",
        "\"what's\" : \"what is\",\n",
        "\"what've\" : \"what have\",\n",
        "\"where's\" : \"where is\",\n",
        "\"who'd\" : \"who would\",\n",
        "\"who'll\" : \"who will\",\n",
        "\"who're\" : \"who are\",\n",
        "\"who's\" : \"who is\",\n",
        "\"who've\" : \"who have\",\n",
        "\"won't\" : \"will not\",\n",
        "\"wouldn't\" : \"would not\",\n",
        "\"you'd\" : \"you would\",\n",
        "\"you'll\" : \"you will\",\n",
        "\"you're\" : \"you are\",\n",
        "\"you've\" : \"you have\",\n",
        "\"'re\": \" are\",\n",
        "\"wasn't\": \"was not\",\n",
        "\"we'll\":\" will\",\n",
        "\"didn't\": \"did not\"}\n",
        "\n",
        "puncts = puncts + list(string.punctuation)\n",
        "\n",
        "def clean_text(x):\n",
        "    x = str(x).replace(\"\\n\",\"\")\n",
        "    for punct in puncts:\n",
        "        x = x.replace(punct, f' {punct} ')\n",
        "    return x\n",
        "\n",
        "\n",
        "def clean_numbers(x):\n",
        "    x = re.sub('\\d+', ' ', x)\n",
        "    return x\n",
        "\n",
        "\n",
        "def replace_typical_misspell(text):\n",
        "    mispellings_re = re.compile('(%s)' % '|'.join(mispell_dict.keys()))\n",
        "\n",
        "    def replace(match):\n",
        "        return mispell_dict[match.group(0)]\n",
        "\n",
        "    return mispellings_re.sub(replace, text)\n",
        "\n",
        "def remove_space(string):\n",
        "    string = BeautifulSoup(string).text.strip().lower()\n",
        "    string = re.sub(r'((http)\\S+)', 'http', string)\n",
        "    string = re.sub(r'\\s+', ' ', string)\n",
        "    return string\n",
        "\n",
        "\n",
        "def clean_data(df, columns: list):\n",
        "    \n",
        "    for col in columns:\n",
        "        df[col] = df[col].apply(lambda x: remove_space(x).lower())        \n",
        "        df[col] = df[col].apply(lambda x: replace_typical_misspell(x))\n",
        "        df[col] = df[col].apply(lambda x: clean_text(x))\n",
        "        \n",
        "    return df"
      ],
      "metadata": {
        "id": "eRhLUzhzuju8"
      },
      "execution_count": null,
      "outputs": []
    },
    {
      "cell_type": "code",
      "source": [
        "import nltk\n",
        "nltk.download('stopwords')"
      ],
      "metadata": {
        "colab": {
          "base_uri": "https://localhost:8080/"
        },
        "id": "vsvv-XBY_f6x",
        "outputId": "fe9f80e2-a35d-41ca-b049-db339074ab2b"
      },
      "execution_count": null,
      "outputs": [
        {
          "output_type": "stream",
          "name": "stderr",
          "text": [
            "[nltk_data] Downloading package stopwords to /root/nltk_data...\n",
            "[nltk_data]   Unzipping corpora/stopwords.zip.\n"
          ]
        },
        {
          "output_type": "execute_result",
          "data": {
            "text/plain": [
              "True"
            ]
          },
          "metadata": {},
          "execution_count": 9
        }
      ]
    },
    {
      "cell_type": "code",
      "source": [
        "for col in ['location','text']:\n",
        "    train_data[col] = train_data[col].apply(lambda x: ' '.join(text_cleaning(x)))\n",
        "    test_data[col] = test_data[col].apply(lambda x: ' '.join(text_cleaning(x)))\n",
        "train_data = clean_data(train_data,['keyword','text'])\n",
        "test_data = clean_data(test_data,['keyword','text'])"
      ],
      "metadata": {
        "id": "HnqP1B0ourYw"
      },
      "execution_count": null,
      "outputs": []
    },
    {
      "cell_type": "code",
      "source": [
        "!python -m spacy download en_core_web_lg"
      ],
      "metadata": {
        "colab": {
          "base_uri": "https://localhost:8080/"
        },
        "id": "S-PqbfGAvAGE",
        "outputId": "db4b141b-54b4-46a6-dca6-35f7da04369b"
      },
      "execution_count": null,
      "outputs": [
        {
          "output_type": "stream",
          "name": "stdout",
          "text": [
            "2023-05-07 10:20:40.427064: I tensorflow/core/platform/cpu_feature_guard.cc:182] This TensorFlow binary is optimized to use available CPU instructions in performance-critical operations.\n",
            "To enable the following instructions: AVX2 FMA, in other operations, rebuild TensorFlow with the appropriate compiler flags.\n",
            "2023-05-07 10:20:41.580764: W tensorflow/compiler/tf2tensorrt/utils/py_utils.cc:38] TF-TRT Warning: Could not find TensorRT\n",
            "Looking in indexes: https://pypi.org/simple, https://us-python.pkg.dev/colab-wheels/public/simple/\n",
            "Collecting en-core-web-lg==3.5.0\n",
            "  Downloading https://github.com/explosion/spacy-models/releases/download/en_core_web_lg-3.5.0/en_core_web_lg-3.5.0-py3-none-any.whl (587.7 MB)\n",
            "\u001b[2K     \u001b[90m━━━━━━━━━━━━━━━━━━━━━━━━━━━━━━━━━━━━━━━\u001b[0m \u001b[32m587.7/587.7 MB\u001b[0m \u001b[31m1.9 MB/s\u001b[0m eta \u001b[36m0:00:00\u001b[0m\n",
            "\u001b[?25hRequirement already satisfied: spacy<3.6.0,>=3.5.0 in /usr/local/lib/python3.10/dist-packages (from en-core-web-lg==3.5.0) (3.5.2)\n",
            "Requirement already satisfied: numpy>=1.15.0 in /usr/local/lib/python3.10/dist-packages (from spacy<3.6.0,>=3.5.0->en-core-web-lg==3.5.0) (1.22.4)\n",
            "Requirement already satisfied: langcodes<4.0.0,>=3.2.0 in /usr/local/lib/python3.10/dist-packages (from spacy<3.6.0,>=3.5.0->en-core-web-lg==3.5.0) (3.3.0)\n",
            "Requirement already satisfied: packaging>=20.0 in /usr/local/lib/python3.10/dist-packages (from spacy<3.6.0,>=3.5.0->en-core-web-lg==3.5.0) (23.1)\n",
            "Requirement already satisfied: catalogue<2.1.0,>=2.0.6 in /usr/local/lib/python3.10/dist-packages (from spacy<3.6.0,>=3.5.0->en-core-web-lg==3.5.0) (2.0.8)\n",
            "Requirement already satisfied: murmurhash<1.1.0,>=0.28.0 in /usr/local/lib/python3.10/dist-packages (from spacy<3.6.0,>=3.5.0->en-core-web-lg==3.5.0) (1.0.9)\n",
            "Requirement already satisfied: thinc<8.2.0,>=8.1.8 in /usr/local/lib/python3.10/dist-packages (from spacy<3.6.0,>=3.5.0->en-core-web-lg==3.5.0) (8.1.9)\n",
            "Requirement already satisfied: srsly<3.0.0,>=2.4.3 in /usr/local/lib/python3.10/dist-packages (from spacy<3.6.0,>=3.5.0->en-core-web-lg==3.5.0) (2.4.6)\n",
            "Requirement already satisfied: tqdm<5.0.0,>=4.38.0 in /usr/local/lib/python3.10/dist-packages (from spacy<3.6.0,>=3.5.0->en-core-web-lg==3.5.0) (4.65.0)\n",
            "Requirement already satisfied: spacy-legacy<3.1.0,>=3.0.11 in /usr/local/lib/python3.10/dist-packages (from spacy<3.6.0,>=3.5.0->en-core-web-lg==3.5.0) (3.0.12)\n",
            "Requirement already satisfied: cymem<2.1.0,>=2.0.2 in /usr/local/lib/python3.10/dist-packages (from spacy<3.6.0,>=3.5.0->en-core-web-lg==3.5.0) (2.0.7)\n",
            "Requirement already satisfied: preshed<3.1.0,>=3.0.2 in /usr/local/lib/python3.10/dist-packages (from spacy<3.6.0,>=3.5.0->en-core-web-lg==3.5.0) (3.0.8)\n",
            "Requirement already satisfied: wasabi<1.2.0,>=0.9.1 in /usr/local/lib/python3.10/dist-packages (from spacy<3.6.0,>=3.5.0->en-core-web-lg==3.5.0) (1.1.1)\n",
            "Requirement already satisfied: requests<3.0.0,>=2.13.0 in /usr/local/lib/python3.10/dist-packages (from spacy<3.6.0,>=3.5.0->en-core-web-lg==3.5.0) (2.27.1)\n",
            "Requirement already satisfied: typer<0.8.0,>=0.3.0 in /usr/local/lib/python3.10/dist-packages (from spacy<3.6.0,>=3.5.0->en-core-web-lg==3.5.0) (0.7.0)\n",
            "Requirement already satisfied: setuptools in /usr/local/lib/python3.10/dist-packages (from spacy<3.6.0,>=3.5.0->en-core-web-lg==3.5.0) (67.7.2)\n",
            "Requirement already satisfied: spacy-loggers<2.0.0,>=1.0.0 in /usr/local/lib/python3.10/dist-packages (from spacy<3.6.0,>=3.5.0->en-core-web-lg==3.5.0) (1.0.4)\n",
            "Requirement already satisfied: pathy>=0.10.0 in /usr/local/lib/python3.10/dist-packages (from spacy<3.6.0,>=3.5.0->en-core-web-lg==3.5.0) (0.10.1)\n",
            "Requirement already satisfied: jinja2 in /usr/local/lib/python3.10/dist-packages (from spacy<3.6.0,>=3.5.0->en-core-web-lg==3.5.0) (3.1.2)\n",
            "Requirement already satisfied: smart-open<7.0.0,>=5.2.1 in /usr/local/lib/python3.10/dist-packages (from spacy<3.6.0,>=3.5.0->en-core-web-lg==3.5.0) (6.3.0)\n",
            "Requirement already satisfied: pydantic!=1.8,!=1.8.1,<1.11.0,>=1.7.4 in /usr/local/lib/python3.10/dist-packages (from spacy<3.6.0,>=3.5.0->en-core-web-lg==3.5.0) (1.10.7)\n",
            "Requirement already satisfied: typing-extensions>=4.2.0 in /usr/local/lib/python3.10/dist-packages (from pydantic!=1.8,!=1.8.1,<1.11.0,>=1.7.4->spacy<3.6.0,>=3.5.0->en-core-web-lg==3.5.0) (4.5.0)\n",
            "Requirement already satisfied: certifi>=2017.4.17 in /usr/local/lib/python3.10/dist-packages (from requests<3.0.0,>=2.13.0->spacy<3.6.0,>=3.5.0->en-core-web-lg==3.5.0) (2022.12.7)\n",
            "Requirement already satisfied: urllib3<1.27,>=1.21.1 in /usr/local/lib/python3.10/dist-packages (from requests<3.0.0,>=2.13.0->spacy<3.6.0,>=3.5.0->en-core-web-lg==3.5.0) (1.26.15)\n",
            "Requirement already satisfied: charset-normalizer~=2.0.0 in /usr/local/lib/python3.10/dist-packages (from requests<3.0.0,>=2.13.0->spacy<3.6.0,>=3.5.0->en-core-web-lg==3.5.0) (2.0.12)\n",
            "Requirement already satisfied: idna<4,>=2.5 in /usr/local/lib/python3.10/dist-packages (from requests<3.0.0,>=2.13.0->spacy<3.6.0,>=3.5.0->en-core-web-lg==3.5.0) (3.4)\n",
            "Requirement already satisfied: blis<0.8.0,>=0.7.8 in /usr/local/lib/python3.10/dist-packages (from thinc<8.2.0,>=8.1.8->spacy<3.6.0,>=3.5.0->en-core-web-lg==3.5.0) (0.7.9)\n",
            "Requirement already satisfied: confection<1.0.0,>=0.0.1 in /usr/local/lib/python3.10/dist-packages (from thinc<8.2.0,>=8.1.8->spacy<3.6.0,>=3.5.0->en-core-web-lg==3.5.0) (0.0.4)\n",
            "Requirement already satisfied: click<9.0.0,>=7.1.1 in /usr/local/lib/python3.10/dist-packages (from typer<0.8.0,>=0.3.0->spacy<3.6.0,>=3.5.0->en-core-web-lg==3.5.0) (8.1.3)\n",
            "Requirement already satisfied: MarkupSafe>=2.0 in /usr/local/lib/python3.10/dist-packages (from jinja2->spacy<3.6.0,>=3.5.0->en-core-web-lg==3.5.0) (2.1.2)\n",
            "Installing collected packages: en-core-web-lg\n",
            "Successfully installed en-core-web-lg-3.5.0\n",
            "\u001b[38;5;2m✔ Download and installation successful\u001b[0m\n",
            "You can now load the package via spacy.load('en_core_web_lg')\n"
          ]
        }
      ]
    },
    {
      "cell_type": "code",
      "source": [
        "import spacy\n",
        "nlp = spacy.load('en_core_web_lg')"
      ],
      "metadata": {
        "id": "nhsHXStEuuXx"
      },
      "execution_count": null,
      "outputs": []
    },
    {
      "cell_type": "code",
      "source": [
        "def location_detection(text):\n",
        "    doc = nlp(text)\n",
        "    entities = []\n",
        "    for ent in doc.ents:\n",
        "        entities.append(ent)\n",
        "    if len(entities)>0:\n",
        "        return 1\n",
        "    return 0"
      ],
      "metadata": {
        "id": "fOCvG2y2uwjA"
      },
      "execution_count": null,
      "outputs": []
    },
    {
      "cell_type": "code",
      "source": [
        "train_data['original_locations'] = train_data['location'].apply(lambda x: location_detection(x))\n",
        "test_data['original_locations'] = test_data['location'].apply(lambda x: location_detection(x))"
      ],
      "metadata": {
        "id": "teds-MLjvY_H"
      },
      "execution_count": null,
      "outputs": []
    },
    {
      "cell_type": "code",
      "source": [
        "spam_locations = ['place','room','home','somewhere','nowhere','everywhere','location',\n",
        "                  'dope','kidding','moon','wherever','dimension','world','fvck','fuck','beside']\n",
        "def is_location_spammy(text):\n",
        "    for word in spam_locations:\n",
        "        if word in text:\n",
        "            return 1\n",
        "    return 0"
      ],
      "metadata": {
        "id": "wgD41ZtGvbnR"
      },
      "execution_count": null,
      "outputs": []
    },
    {
      "cell_type": "code",
      "source": [
        "train_data['Is_location_spam'] = train_data['location'].apply(lambda x: is_location_spammy(x))\n",
        "test_data['Is_location_spam'] = test_data['location'].apply(lambda x: is_location_spammy(x))\n"
      ],
      "metadata": {
        "id": "cAF81aWfvepR"
      },
      "execution_count": null,
      "outputs": []
    },
    {
      "cell_type": "code",
      "source": [
        "def digit_counter(text):\n",
        "    \"\"\"detects any digit in any token and counts\n",
        "       once par token.\"\"\"\n",
        "    sum_number = 0\n",
        "    doc = nlp(text)\n",
        "    for token in doc:\n",
        "        sum_number += bool(re.search(r'\\d', token.text))*1\n",
        "    return sum_number    "
      ],
      "metadata": {
        "id": "WNcfpCJTvh2Q"
      },
      "execution_count": null,
      "outputs": []
    },
    {
      "cell_type": "code",
      "source": [
        "train_data['digit_count_location'] = train_data['location'].apply(lambda x: digit_counter(x))\n",
        "test_data['digit_count_location'] = test_data['location'].apply(lambda x: digit_counter(x))"
      ],
      "metadata": {
        "id": "1YgoKKbBvkXq"
      },
      "execution_count": null,
      "outputs": []
    },
    {
      "cell_type": "code",
      "source": [
        "disaster_tweets =' '.join(train_data[train_data['target'] == 1]['text'].tolist())\n",
        "non_disaster_tweets = ' '.join(train_data[train_data['target'] == 0]['text'].tolist())"
      ],
      "metadata": {
        "id": "kWGkjGTavpGI"
      },
      "execution_count": null,
      "outputs": []
    },
    {
      "cell_type": "code",
      "source": [
        "import nltk\n",
        "import gensim\n",
        "from gensim.models import HdpModel\n",
        "\n",
        "def return_top_words(text, words=10):\n",
        "    \n",
        "    all_words = nltk.tokenize.word_tokenize(text)\n",
        "    \n",
        "    stop_words = nltk.corpus.stopwords.words('english')\n",
        "    all_words_except_stop_dist = nltk.FreqDist(w.lower() for w in all_words if w not in stop_words)\n",
        "    \n",
        "    \n",
        "    dictionary = gensim.corpora.Dictionary([all_words_except_stop_dist])\n",
        "    \n",
        "    corpus = [dictionary.doc2bow([text])]\n",
        "\n",
        "    \n",
        "    hdp_model = HdpModel(corpus, dictionary)\n",
        "    topics = hdp_model.show_topics(num_topics=-1, num_words=words)\n",
        "    \n",
        "    \n",
        "    top_words = []\n",
        "    for topic in topics:\n",
        "        words = [word for word, prob in hdp_model.show_topic(topic[0], topn=words)]\n",
        "        top_words.append(words)\n",
        "    \n",
        "    return top_words"
      ],
      "metadata": {
        "id": "2OObon-AvsZK"
      },
      "execution_count": null,
      "outputs": []
    },
    {
      "cell_type": "code",
      "source": [
        "import nltk\n",
        "nltk.download('punkt')"
      ],
      "metadata": {
        "colab": {
          "base_uri": "https://localhost:8080/"
        },
        "id": "6mzNgKd1HURO",
        "outputId": "58b15e72-c851-4f53-d252-eef83f1ee177"
      },
      "execution_count": null,
      "outputs": [
        {
          "output_type": "stream",
          "name": "stderr",
          "text": [
            "[nltk_data] Downloading package punkt to /root/nltk_data...\n",
            "[nltk_data]   Unzipping tokenizers/punkt.zip.\n"
          ]
        },
        {
          "output_type": "execute_result",
          "data": {
            "text/plain": [
              "True"
            ]
          },
          "metadata": {},
          "execution_count": 21
        }
      ]
    },
    {
      "cell_type": "code",
      "source": [
        "top_50_disaster_words = return_top_words(disaster_tweets,50)\n",
        "top_50_nondisaster_words = return_top_words(non_disaster_tweets,50)"
      ],
      "metadata": {
        "id": "Tqe8m0jSvvsA"
      },
      "execution_count": null,
      "outputs": []
    },
    {
      "cell_type": "code",
      "source": [
        "import nltk\n",
        "nltk.download('punkt')"
      ],
      "metadata": {
        "colab": {
          "base_uri": "https://localhost:8080/"
        },
        "id": "tIE4j-95AeQP",
        "outputId": "b6c27c8f-1c75-4aef-c4ea-9d591a72ac00"
      },
      "execution_count": null,
      "outputs": [
        {
          "output_type": "stream",
          "name": "stderr",
          "text": [
            "[nltk_data] Downloading package punkt to /root/nltk_data...\n",
            "[nltk_data]   Package punkt is already up-to-date!\n"
          ]
        },
        {
          "output_type": "execute_result",
          "data": {
            "text/plain": [
              "True"
            ]
          },
          "metadata": {},
          "execution_count": 23
        }
      ]
    },
    {
      "cell_type": "code",
      "source": [
        "top_200_disaster_words = return_top_words(disaster_tweets,400)\n",
        "top_200_nondisaster_words = return_top_words(non_disaster_tweets,400)\n",
        "top_disaster_exclusive = list(set(top_200_disaster_words).difference(set(top_200_nondisaster_words)))\n",
        "top_nondisaster_exclusive = list(set(top_200_nondisaster_words).difference(set(top_200_disaster_words)))"
      ],
      "metadata": {
        "id": "RfAvSGc6vzHg"
      },
      "execution_count": null,
      "outputs": []
    },
    {
      "cell_type": "code",
      "source": [
        "total_vocab = top_disaster_exclusive + top_nondisaster_exclusive"
      ],
      "metadata": {
        "id": "ONJMNsWqv1GH"
      },
      "execution_count": null,
      "outputs": []
    },
    {
      "cell_type": "code",
      "source": [
        "for word in total_vocab:\n",
        "    train_data['Is_'+word+'_present'] = train_data['text'].apply(lambda x: (word in x)*1)\n",
        "    test_data['Is_'+word+'_present'] = test_data['text'].apply(lambda x: (word in x)*1)"
      ],
      "metadata": {
        "id": "Pz0oM1qGv4J_"
      },
      "execution_count": null,
      "outputs": []
    },
    {
      "cell_type": "code",
      "source": [
        "from sklearn.feature_extraction.text import TfidfVectorizer\n",
        "tf_idf = TfidfVectorizer(ngram_range=(1, 3),\n",
        "                         binary=True,\n",
        "                         max_features = 5000,\n",
        "                         smooth_idf=False)\n",
        "X_train_tfidf = tf_idf.fit_transform(train_data['text'])\n",
        "X_test_tfidf = tf_idf.transform(test_data['text'])\n",
        "tf_kw = TfidfVectorizer(ngram_range = (1,2),\n",
        "                        binary = True,\n",
        "                        max_features = 1500,\n",
        "                        smooth_idf = False)\n",
        "kw_train_tfidf = tf_kw.fit_transform(train_data['keyword'])\n",
        "kw_test_tfidf = tf_kw.transform(test_data['keyword'])\n",
        "tf_location = TfidfVectorizer(ngram_range = (1,2),\n",
        "                              binary = True,\n",
        "                              max_features = 1500,\n",
        "                              smooth_idf = False)\n",
        "location_train_tfidf = tf_location.fit_transform(train_data['location'])\n",
        "location_test_tfidf = tf_location.transform(test_data['location'])"
      ],
      "metadata": {
        "id": "XtEscMnAv6iQ"
      },
      "execution_count": null,
      "outputs": []
    },
    {
      "cell_type": "code",
      "source": [
        "train_data = pd.concat([train_data,pd.DataFrame(X_train_tfidf.toarray(),\n",
        "                                                columns = ['text_contains_'+ str(text) for text in tf_idf.get_feature_names_out()]),\n",
        "                        pd.DataFrame(kw_train_tfidf.toarray(),\n",
        "                                     columns = ['keyword_contains_'+str(text) for text in tf_kw.get_feature_names_out()]),\n",
        "                        pd.DataFrame(location_train_tfidf.toarray(),\n",
        "                                     columns = ['location_contains_'+str(text) for text in tf_location.get_feature_names_out()])],axis = 1)\n",
        "test_data = pd.concat([test_data,pd.DataFrame(X_test_tfidf.toarray(),\n",
        "                                              columns = ['text_contains_'+ str(text) for text in tf_idf.get_feature_names_out()]),\n",
        "                       pd.DataFrame(kw_test_tfidf.toarray(),\n",
        "                                    columns = ['keyword_contains_'+str(text) for text in tf_kw.get_feature_names_out()]),\n",
        "                       pd.DataFrame(location_test_tfidf.toarray(),\n",
        "                                    columns = ['location_contains_'+str(text) for text in tf_location.get_feature_names_out()])],axis = 1)"
      ],
      "metadata": {
        "id": "-kNN7RyBv-Y4"
      },
      "execution_count": null,
      "outputs": []
    },
    {
      "cell_type": "code",
      "source": [
        "def create_vec(dataframe):\n",
        "    texts = dataframe['text'].tolist()\n",
        "    vectors = []\n",
        "    for doc in nlp.pipe(texts):\n",
        "        vectors.append(list(doc.vector))\n",
        "    df = pd.DataFrame(vectors,columns = ['vec_'+str(i) for i in range(300)])\n",
        "    return df\n",
        "vec_train = create_vec(train_data)\n",
        "vec_test = create_vec(test_data)\n",
        "train_data = pd.concat([train_data,vec_train],axis = 1)\n",
        "test_data = pd.concat([test_data,vec_test],axis = 1)\n"
      ],
      "metadata": {
        "id": "PWBr0eq_wBfN"
      },
      "execution_count": null,
      "outputs": []
    },
    {
      "cell_type": "code",
      "source": [
        "train_data = train_data.drop(['keyword','location','text'],axis = 1)\n",
        "test_data = test_data.drop(['keyword','location','text'],axis = 1)"
      ],
      "metadata": {
        "id": "DUzO1v84wb5A"
      },
      "execution_count": null,
      "outputs": []
    },
    {
      "cell_type": "code",
      "source": [
        "X_train = train_data.drop('target',axis = 1)\n",
        "Y_train = train_data['target']\n",
        "print('target' in test_data.columns)"
      ],
      "metadata": {
        "colab": {
          "base_uri": "https://localhost:8080/"
        },
        "id": "HEknKcvOwki3",
        "outputId": "34e42b5b-a55f-4c64-9b9a-41a906d549b6"
      },
      "execution_count": null,
      "outputs": [
        {
          "output_type": "stream",
          "name": "stdout",
          "text": [
            "False\n"
          ]
        }
      ]
    },
    {
      "cell_type": "code",
      "source": [
        "len(train_data.columns)"
      ],
      "metadata": {
        "colab": {
          "base_uri": "https://localhost:8080/"
        },
        "id": "H-dB11oWwm8Q",
        "outputId": "2a5632e9-22d3-497d-db9a-d9ba09deed2b"
      },
      "execution_count": null,
      "outputs": [
        {
          "output_type": "execute_result",
          "data": {
            "text/plain": [
              "7070"
            ]
          },
          "metadata": {},
          "execution_count": 32
        }
      ]
    },
    {
      "cell_type": "code",
      "source": [
        "from sklearn.ensemble import RandomForestClassifier as rfc\n",
        "from sklearn.metrics import classification_report, roc_auc_score, fbeta_score, make_scorer\n",
        "forest = rfc(n_estimators = 128,max_depth = 8,min_samples_split = 15,\n",
        "             class_weight = {0:1,1:1.6},oob_score = True)\n",
        "forest.fit(X_train.values,Y_train.values)\n",
        "print(forest.oob_score_)\n",
        "Y_pred_train = forest.predict(X_train.values)\n",
        "print(classification_report(Y_pred_train,Y_train))\n",
        "\n",
        "\n",
        "Y_pred_prob_train = forest.predict_proba(X_train.values)[:, 1]\n",
        "auc_score_train = roc_auc_score(Y_train.values, Y_pred_prob_train)\n",
        "print(\"AUC Score on train set: \", auc_score_train)\n",
        "\n",
        "fbeta_score_train = make_scorer(fbeta_score, beta=0.5)\n",
        "f05_score_train = fbeta_score(Y_train.values, Y_pred_train, beta=0.5)\n",
        "print(\"F0.5 Score on train set: \", f05_score_train)"
      ],
      "metadata": {
        "colab": {
          "base_uri": "https://localhost:8080/"
        },
        "id": "0bhCMK5dwpda",
        "outputId": "ca633d64-d1ae-4e24-faf9-de8da73d541a"
      },
      "execution_count": null,
      "outputs": [
        {
          "output_type": "stream",
          "name": "stdout",
          "text": [
            "0.7443846052804414\n",
            "              precision    recall  f1-score   support\n",
            "\n",
            "           0       0.82      0.88      0.85      4056\n",
            "           1       0.85      0.78      0.81      3557\n",
            "\n",
            "    accuracy                           0.83      7613\n",
            "   macro avg       0.84      0.83      0.83      7613\n",
            "weighted avg       0.84      0.83      0.83      7613\n",
            "\n",
            "AUC Score on train set:  0.9224304254647115\n",
            "F0.5 Score on train set:  0.7949025658609062\n"
          ]
        }
      ]
    },
    {
      "cell_type": "code",
      "source": [
        "from sklearn.model_selection import StratifiedKFold, cross_val_score\n",
        "\n",
        "def get_auc_CV(model,X_train,Y_train):\n",
        "    \"\"\"\n",
        "    Return the average AUC score from cross-validation.\n",
        "    \"\"\"\n",
        "    # Set KFold to shuffle data before the split\n",
        "    kf = StratifiedKFold(5, shuffle=True, random_state=1)\n",
        "\n",
        "    # Get AUC scores\n",
        "    auc = cross_val_score(\n",
        "        model, X_train, Y_train, scoring=\"roc_auc\", cv=kf)\n",
        "\n",
        "    return auc.mean()"
      ],
      "metadata": {
        "id": "GzwpPhXkwuzJ"
      },
      "execution_count": null,
      "outputs": []
    },
    {
      "cell_type": "code",
      "source": [
        "\n",
        "import time\n",
        "from xgboost import XGBClassifier\n",
        "from sklearn.metrics import classification_report, roc_auc_score, fbeta_score, make_scorer\n",
        "xgb = XGBClassifier(n_estimators=200,learning_rate = 0.2,max_depth = 8)\n",
        "training_start = time.perf_counter()\n",
        "xgb.fit(X_train.values, Y_train.values)\n",
        "training_end = time.perf_counter()\n",
        "xgb_train_time = training_end-training_start\n",
        "print(\"Time consumed for training: %4.3f\" % (xgb_train_time))"
      ],
      "metadata": {
        "colab": {
          "base_uri": "https://localhost:8080/"
        },
        "id": "jYJxldcxwzQi",
        "outputId": "970b5734-fbc6-4f91-cd98-d7fc4c033613"
      },
      "execution_count": null,
      "outputs": [
        {
          "output_type": "stream",
          "name": "stdout",
          "text": [
            "Time consumed for training: 806.726\n"
          ]
        }
      ]
    },
    {
      "cell_type": "code",
      "source": [
        "prediction_start = time.perf_counter()\n",
        "pred_final = xgb.predict(test_data.values)\n",
        "pred_train = xgb.predict(X_train.values)\n",
        "print(classification_report(Y_train,pred_train))\n",
        "print(test_data.values)\n",
        "print(pred_final)\n",
        "prediction_end = time.perf_counter()\n",
        "xgb_prediction_time = prediction_end-prediction_start\n",
        "print(\"Time consumed for prediction: %6.5f seconds\" % (xgb_prediction_time))\n",
        "# Calculate AUC score\n",
        "Y_pred_prob_train = xgb.predict_proba(X_train.values)[:, 1]\n",
        "auc_score_train = roc_auc_score(Y_train.values, Y_pred_prob_train)\n",
        "print(\"AUC Score on train set: \", auc_score_train)\n",
        "\n",
        "# Calculate f0.5 score\n",
        "fbeta_score_train = make_scorer(fbeta_score, beta=0.5)\n",
        "f05_score_train = fbeta_score(Y_train.values, pred_train, beta=0.5)\n",
        "print(\"F0.5 Score on train set: \", f05_score_train)"
      ],
      "metadata": {
        "colab": {
          "base_uri": "https://localhost:8080/"
        },
        "id": "oyU8C_5tzq_Z",
        "outputId": "bc4fcb40-6c84-4fdf-c3eb-08bf81cf48cd"
      },
      "execution_count": null,
      "outputs": [
        {
          "output_type": "stream",
          "name": "stdout",
          "text": [
            "              precision    recall  f1-score   support\n",
            "\n",
            "           0       0.99      1.00      0.99      4342\n",
            "           1       0.99      0.99      0.99      3271\n",
            "\n",
            "    accuracy                           0.99      7613\n",
            "   macro avg       0.99      0.99      0.99      7613\n",
            "weighted avg       0.99      0.99      0.99      7613\n",
            "\n",
            "[[ 0.          0.          0.         ...  2.21758246  0.90735507\n",
            "   0.08885002]\n",
            " [ 0.          0.          0.         ...  0.4484143  -1.24453855\n",
            "   2.66093993]\n",
            " [ 0.          0.          0.         ... -1.85572815 -1.42793274\n",
            "   1.81197727]\n",
            " ...\n",
            " [ 0.          0.          0.         ... -0.93268573 -2.13055134\n",
            "  -0.55490571]\n",
            " [ 0.          0.          0.         ... -0.7221151  -1.79182541\n",
            "   1.00080121]\n",
            " [ 0.          0.          0.         ... -1.04589999  1.15317166\n",
            "   2.02882838]]\n",
            "[0 0 1 ... 0 1 1]\n",
            "Time consumed for prediction: 3.90756 seconds\n",
            "AUC Score on train set:  0.999790004451272\n",
            "F0.5 Score on train set:  0.9923734547020111\n"
          ]
        }
      ]
    },
    {
      "cell_type": "code",
      "source": [
        "import pickle\n",
        "\n",
        "with open(\"xgb_model.pkl\", \"wb\") as f:\n",
        "    pickle.dump(xgb, f)"
      ],
      "metadata": {
        "id": "JNDu7PZq9sqY"
      },
      "execution_count": null,
      "outputs": []
    },
    {
      "cell_type": "code",
      "source": [
        "from sklearn.linear_model import LogisticRegression\n",
        "from sklearn.metrics import classification_report\n",
        "\n",
        "logreg = LogisticRegression(class_weight={0:1, 1:1.6})\n",
        "logreg.fit(X_train, Y_train)\n",
        "\n",
        "Y_pred_train = logreg.predict(X_train)\n",
        "print(classification_report(Y_pred_train, Y_train))\n",
        "\n",
        "# Calculate AUC score\n",
        "Y_pred_prob_train = logreg.predict_proba(X_train)[:, 1]\n",
        "auc_score_train = roc_auc_score(Y_train, Y_pred_prob_train)\n",
        "print(\"AUC Score on train set: \", auc_score_train)\n",
        "\n",
        "# Calculate f0.5 score\n",
        "fbeta_score_train = make_scorer(fbeta_score, beta=0.5)\n",
        "f05_score_train = fbeta_score(Y_train, Y_pred_train, beta=0.5)\n",
        "print(\"F0.5 Score on train set: \", f05_score_train)"
      ],
      "metadata": {
        "colab": {
          "base_uri": "https://localhost:8080/"
        },
        "id": "zru7HYrj4nvX",
        "outputId": "55b006be-8136-40dc-d5b8-a71d74cb2f3a"
      },
      "execution_count": null,
      "outputs": [
        {
          "output_type": "stream",
          "name": "stderr",
          "text": [
            "/usr/local/lib/python3.10/dist-packages/sklearn/linear_model/_logistic.py:458: ConvergenceWarning: lbfgs failed to converge (status=1):\n",
            "STOP: TOTAL NO. of ITERATIONS REACHED LIMIT.\n",
            "\n",
            "Increase the number of iterations (max_iter) or scale the data as shown in:\n",
            "    https://scikit-learn.org/stable/modules/preprocessing.html\n",
            "Please also refer to the documentation for alternative solver options:\n",
            "    https://scikit-learn.org/stable/modules/linear_model.html#logistic-regression\n",
            "  n_iter_i = _check_optimize_result(\n"
          ]
        },
        {
          "output_type": "stream",
          "name": "stdout",
          "text": [
            "              precision    recall  f1-score   support\n",
            "\n",
            "           0       0.82      0.87      0.84      4134\n",
            "           1       0.83      0.78      0.81      3479\n",
            "\n",
            "    accuracy                           0.83      7613\n",
            "   macro avg       0.83      0.82      0.82      7613\n",
            "weighted avg       0.83      0.83      0.83      7613\n",
            "\n",
            "AUC Score on train set:  0.9049850584558606\n",
            "F0.5 Score on train set:  0.7904229941234654\n"
          ]
        }
      ]
    },
    {
      "cell_type": "code",
      "source": [
        "from sklearn.svm import SVC\n",
        "from sklearn.metrics import classification_report\n",
        "\n",
        "svm = SVC(kernel='rbf', gamma='auto', class_weight={0:1, 1:1.6})\n",
        "svm.fit(X_train.values, Y_train.values)\n",
        "\n",
        "Y_pred_train = svm.predict(X_train.values)\n",
        "print(classification_report(Y_pred_train, Y_train))\n",
        "\n",
        "# Calculate AUC score\n",
        "Y_pred_prob_train = svm.decision_function(X_train.values)\n",
        "auc_score_train = roc_auc_score(Y_train, Y_pred_prob_train)\n",
        "print(\"AUC Score on train set: \", auc_score_train)\n",
        "\n",
        "# Calculate f0.5 score\n",
        "fbeta_score_train = make_scorer(fbeta_score, beta=0.5)\n",
        "f05_score_train = fbeta_score(Y_train, Y_pred_train, beta=0.5)\n",
        "print(\"F0.5 Score on train set: \", f05_score_train)"
      ],
      "metadata": {
        "colab": {
          "base_uri": "https://localhost:8080/"
        },
        "id": "TEJGjXjw5Ikp",
        "outputId": "856fbc23-d6fc-4c33-e66e-6b2fa3b5e2c6"
      },
      "execution_count": null,
      "outputs": [
        {
          "output_type": "stream",
          "name": "stdout",
          "text": [
            "              precision    recall  f1-score   support\n",
            "\n",
            "           0       0.78      0.84      0.81      4051\n",
            "           1       0.80      0.73      0.76      3562\n",
            "\n",
            "    accuracy                           0.79      7613\n",
            "   macro avg       0.79      0.78      0.78      7613\n",
            "weighted avg       0.79      0.79      0.79      7613\n",
            "\n",
            "AUC Score on train set:  0.8657728167116605\n",
            "F0.5 Score on train set:  0.7429077002111992\n"
          ]
        }
      ]
    },
    {
      "cell_type": "code",
      "source": [
        "from sklearn.naive_bayes import GaussianNB\n",
        "from sklearn.metrics import classification_report\n",
        "\n",
        "nb = GaussianNB()\n",
        "nb.fit(X_train.values, Y_train.values)\n",
        "\n",
        "Y_pred_train = nb.predict(X_train.values)\n",
        "print(classification_report(Y_pred_train, Y_train))\n",
        "# Calculate f0.5 score\n",
        "fbeta_score_train = make_scorer(fbeta_score, beta=0.5)\n",
        "f05_score_train = fbeta_score(Y_train, Y_pred_train, beta=0.5)\n",
        "print(\"F0.5 Score on train set: \", f05_score_train)"
      ],
      "metadata": {
        "colab": {
          "base_uri": "https://localhost:8080/"
        },
        "id": "BDvAymhH5STM",
        "outputId": "6b0b8c57-321e-43e6-b3e9-1dc7dd6ee4e0"
      },
      "execution_count": null,
      "outputs": [
        {
          "output_type": "stream",
          "name": "stdout",
          "text": [
            "              precision    recall  f1-score   support\n",
            "\n",
            "           0       0.98      0.79      0.88      5358\n",
            "           1       0.66      0.96      0.78      2255\n",
            "\n",
            "    accuracy                           0.84      7613\n",
            "   macro avg       0.82      0.88      0.83      7613\n",
            "weighted avg       0.89      0.84      0.85      7613\n",
            "\n",
            "F0.5 Score on train set:  0.8807257342771134\n"
          ]
        }
      ]
    },
    {
      "cell_type": "code",
      "source": [
        "from sklearn.tree import DecisionTreeClassifier\n",
        "from sklearn.metrics import classification_report, roc_auc_score, make_scorer, fbeta_score\n",
        "\n",
        "dtc = DecisionTreeClassifier(max_depth=8, min_samples_split=15, class_weight={0:1, 1:1.6})\n",
        "dtc.fit(X_train.values, Y_train.values)\n",
        "\n",
        "Y_pred_train = dtc.predict(X_train.values)\n",
        "print(classification_report(Y_pred_train, Y_train))\n",
        "\n",
        "# Calculate AUC score\n",
        "Y_pred_prob_train = dtc.predict_proba(X_train.values)[:,1]\n",
        "auc_score_train = roc_auc_score(Y_train, Y_pred_prob_train)\n",
        "print(\"AUC Score on train set: \", auc_score_train)\n",
        "\n",
        "# Calculate f0.5 score\n",
        "fbeta_score_train = make_scorer(fbeta_score, beta=0.5)\n",
        "f05_score_train = fbeta_score(Y_train, Y_pred_train, beta=0.5)\n",
        "print(\"F0.5 Score on train set: \", f05_score_train)"
      ],
      "metadata": {
        "colab": {
          "base_uri": "https://localhost:8080/"
        },
        "id": "NKOPPicywGqT",
        "outputId": "60273982-6586-473f-c56d-53e61c525f37"
      },
      "execution_count": null,
      "outputs": [
        {
          "output_type": "stream",
          "name": "stdout",
          "text": [
            "              precision    recall  f1-score   support\n",
            "\n",
            "           0       0.76      0.92      0.83      3579\n",
            "           1       0.91      0.74      0.82      4034\n",
            "\n",
            "    accuracy                           0.83      7613\n",
            "   macro avg       0.84      0.83      0.83      7613\n",
            "weighted avg       0.84      0.83      0.82      7613\n",
            "\n",
            "AUC Score on train set:  0.9042172457286588\n",
            "F0.5 Score on train set:  0.7698253207605502\n"
          ]
        }
      ]
    },
    {
      "cell_type": "code",
      "source": [
        "from sklearn.ensemble import GradientBoostingClassifier\n",
        "from sklearn.metrics import classification_report, roc_auc_score, make_scorer\n",
        "\n",
        "gb = GradientBoostingClassifier(n_estimators=100, max_depth=3, learning_rate=0.1)\n",
        "gb.fit(X_train, Y_train)\n",
        "\n",
        "Y_pred_train = gb.predict(X_train)\n",
        "print(classification_report(Y_pred_train, Y_train))\n",
        "\n",
        "Y_pred_prob_train = gb.predict_proba(X_train)[:, 1]\n",
        "auc_score_train = roc_auc_score(Y_train, Y_pred_prob_train)\n",
        "print(\"AUC Score on train set: \", auc_score_train)\n",
        "\n",
        "fbeta_score_train = make_scorer(fbeta_score, beta=0.5)\n",
        "f05_score_train = fbeta_score(Y_train, Y_pred_train, beta=0.5)\n",
        "print(\"F0.5 Score on train set: \", f05_score_train)"
      ],
      "metadata": {
        "colab": {
          "base_uri": "https://localhost:8080/"
        },
        "id": "MRpmtfHtwGxi",
        "outputId": "a4d7dcd2-46ea-4b12-8115-586bcea8ce61"
      },
      "execution_count": null,
      "outputs": [
        {
          "output_type": "stream",
          "name": "stdout",
          "text": [
            "              precision    recall  f1-score   support\n",
            "\n",
            "           0       0.91      0.83      0.87      4752\n",
            "           1       0.75      0.86      0.80      2861\n",
            "\n",
            "    accuracy                           0.84      7613\n",
            "   macro avg       0.83      0.84      0.83      7613\n",
            "weighted avg       0.85      0.84      0.84      7613\n",
            "\n",
            "AUC Score on train set:  0.9145477241551984\n",
            "F0.5 Score on train set:  0.8341828066598709\n"
          ]
        }
      ]
    },
    {
      "cell_type": "code",
      "source": [
        "import matplotlib.pyplot as plt\n",
        "from sklearn.tree import DecisionTreeClassifier\n",
        "from sklearn.ensemble import GradientBoostingClassifier\n",
        "from sklearn.metrics import classification_report\n",
        "\n",
        "# Random Forest\n",
        "forest = rfc(n_estimators=100, max_depth=5, random_state=1)\n",
        "forest.fit(X_train, Y_train)\n",
        "Y_pred_train_forest = forest.predict(X_train)\n",
        "forest_report = classification_report(Y_pred_train_forest, Y_train, output_dict=True)\n",
        "forest_scores = [forest_report['accuracy'], forest_report['weighted avg']['precision'], forest_report['weighted avg']['recall'], forest_report['weighted avg']['f1-score']]\n",
        "\n",
        "# XGBoost\n",
        "xgb = XGBClassifier()\n",
        "xgb.fit(X_train, Y_train)\n",
        "pred_train_xgb = xgb.predict(X_train)\n",
        "xgb_report = classification_report(Y_train,pred_train_xgb, output_dict=True)\n",
        "xgb_scores = [xgb_report['accuracy'], xgb_report['weighted avg']['precision'], xgb_report['weighted avg']['recall'], xgb_report['weighted avg']['f1-score']]\n",
        "\n",
        "# Logistic Regression\n",
        "logreg = LogisticRegression(max_iter=1000)\n",
        "logreg.fit(X_train, Y_train)\n",
        "Y_pred_train_logreg = logreg.predict(X_train)\n",
        "logreg_report = classification_report(Y_pred_train_logreg, Y_train, output_dict=True)\n",
        "logreg_scores = [logreg_report['accuracy'], logreg_report['weighted avg']['precision'], logreg_report['weighted avg']['recall'], logreg_report['weighted avg']['f1-score']]\n",
        "\n",
        "# SVM\n",
        "svm = SVC(kernel='rbf', gamma='auto', class_weight={0:1, 1:1.6})\n",
        "svm.fit(X_train, Y_train)\n",
        "Y_pred_train_svm = svm.predict(X_train)\n",
        "svm_report = classification_report(Y_pred_train_svm, Y_train, output_dict=True)\n",
        "svm_scores = [svm_report['accuracy'], svm_report['weighted avg']['precision'], svm_report['weighted avg']['recall'], svm_report['weighted avg']['f1-score']]\n",
        "\n",
        "# Decision Tree\n",
        "dt = DecisionTreeClassifier()\n",
        "dt.fit(X_train, Y_train)\n",
        "Y_pred_train_dt = dt.predict(X_train)\n",
        "dt_report = classification_report(Y_pred_train_dt, Y_train, output_dict=True)\n",
        "dt_scores = [dt_report['accuracy'], dt_report['weighted avg']['precision'], dt_report['weighted avg']['recall'], dt_report['weighted avg']['f1-score']]\n",
        "\n",
        "# Gradient Boosting\n",
        "gb = GradientBoostingClassifier(n_estimators=100, max_depth=5, random_state=1)\n",
        "gb.fit(X_train, Y_train)\n",
        "Y_pred_train_gb = gb.predict(X_train)\n",
        "gb_report = classification_report(Y_pred_train_gb, Y_train, output_dict=True)\n",
        "gb_scores = [gb_report['accuracy'], gb_report['weighted avg']['precision'], gb_report['weighted avg']['recall'], gb_report['weighted avg']['f1-score']]\n",
        "\n",
        "# Graph 1: Accuracy Comparison\n",
        "models = ['Random Forest', 'XGBoost', 'Logistic Regression', 'SVM', 'Decision Tree', 'Gradient Boosting']\n",
        "accuracy = [forest_scores[0], xgb_scores[0], logreg_scores[0], svm_scores[0], dt_scores[0], gb_scores[0]]\n",
        "\n",
        "plt.bar(models, accuracy)\n",
        "plt.title('Accuracy Comparison')\n",
        "plt.xlabel('Models')\n",
        "plt.xticks(rotation=90)\n",
        "plt.ylabel('Accuracy')\n",
        "plt.show()\n",
        "\n",
        "# Graph 2: Precision Comparison\n",
        "precision = [forest_scores[1], xgb_scores[1], logreg_scores[1], svm_scores[1], dt_scores[1], gb_scores[1]]\n",
        "\n",
        "plt.bar(models, precision)\n",
        "plt.title('Precision Comparison')\n",
        "plt.xlabel('Models')\n",
        "plt.xticks(rotation=90)\n",
        "plt.ylabel('Precision')\n",
        "plt.show()\n",
        "\n",
        "recall = [forest_scores[2], xgb_scores[2], logreg_scores[2], svm_scores[2], dt_scores[2], gb_scores[2]]\n",
        "\n",
        "plt.bar(models, recall)\n",
        "plt.title('Recall Comparison')\n",
        "plt.xlabel('Models')\n",
        "plt.xticks(rotation=90)\n",
        "plt.ylabel('Recall')\n",
        "plt.show()\n",
        "\n",
        "f1 = [forest_scores[3], xgb_scores[3], logreg_scores[3], svm_scores[3], dt_scores[3], gb_scores[3]]\n",
        "\n",
        "plt.bar(models, f1)\n",
        "plt.title('F1-Score Comparison')\n",
        "plt.xlabel('Models')\n",
        "plt.xticks(rotation=90)\n",
        "plt.ylabel('F1-Score')\n",
        "plt.show()\n",
        "\n",
        "from sklearn.metrics import fbeta_score, roc_auc_score\n",
        "\n",
        "# F0.5-Score Comparison\n",
        "beta = 0.5\n",
        "f05_scores = []\n",
        "for scores in [forest_scores, xgb_scores, logreg_scores, svm_scores, dt_scores, gb_scores]:\n",
        "    f05 = fbeta_score(Y_train, pred_train_xgb, beta=beta, average='weighted')\n",
        "    f05_scores.append(f05)\n",
        "\n",
        "plt.bar(models, f05_scores)\n",
        "plt.title(f'F{beta}-Score Comparison')\n",
        "plt.xlabel('Models')\n",
        "plt.xticks(rotation=90)\n",
        "plt.ylabel(f'F{beta}-Score')\n",
        "plt.show()\n"
      ],
      "metadata": {
        "colab": {
          "base_uri": "https://localhost:8080/",
          "height": 1000
        },
        "id": "0Ed32yRY58dR",
        "outputId": "d0d5cee0-51a1-4f21-a54c-2d4649ed48cf"
      },
      "execution_count": null,
      "outputs": [
        {
          "output_type": "stream",
          "name": "stderr",
          "text": [
            "/usr/local/lib/python3.10/dist-packages/sklearn/linear_model/_logistic.py:458: ConvergenceWarning: lbfgs failed to converge (status=1):\n",
            "STOP: TOTAL NO. of ITERATIONS REACHED LIMIT.\n",
            "\n",
            "Increase the number of iterations (max_iter) or scale the data as shown in:\n",
            "    https://scikit-learn.org/stable/modules/preprocessing.html\n",
            "Please also refer to the documentation for alternative solver options:\n",
            "    https://scikit-learn.org/stable/modules/linear_model.html#logistic-regression\n",
            "  n_iter_i = _check_optimize_result(\n"
          ]
        },
        {
          "output_type": "display_data",
          "data": {
            "text/plain": [
              "<Figure size 640x480 with 1 Axes>"
            ],
            "image/png": "[encoded data removed]"
          },
          "metadata": {}
        },
        {
          "output_type": "display_data",
          "data": {
            "text/plain": [
              "<Figure size 640x480 with 1 Axes>"
            ],
            "image/png": "[encoded data removed]"
          },
          "metadata": {}
        },
        {
          "output_type": "display_data",
          "data": {
            "text/plain": [
              "<Figure size 640x480 with 1 Axes>"
            ],
            "image/png": "[encoded data removed]"
          },
          "metadata": {}
        },
        {
          "output_type": "display_data",
          "data": {
            "text/plain": [
              "<Figure size 640x480 with 1 Axes>"
            ],
            "image/png": "[encoded data removed]"
          },
          "metadata": {}
        },
        {
          "output_type": "display_data",
          "data": {
            "text/plain": [
              "<Figure size 640x480 with 1 Axes>"
            ],
            "image/png": "[encoded data removed]"
          },
          "metadata": {}
        }
      ]
    }
  ]
}