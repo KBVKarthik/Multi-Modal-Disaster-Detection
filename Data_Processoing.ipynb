{
  "cells": [
    {
      "cell_type": "code",
      "execution_count": null,
      "metadata": {
        "id": "hzm0Fj8T1vbp"
      },
      "outputs": [],
      "source": [
        "import nltk\n",
        "import inflect\n",
        "import contractions\n",
        "import re \n",
        "import string \n",
        "import unicodedata\n",
        "import joblib\n",
        "import warnings\n",
        "import pickle\n",
        "\n",
        "import numpy as np\n",
        "import pandas as pd\n",
        "\n",
        "from bs4 import BeautifulSoup\n",
        "from nltk import word_tokenize, sent_tokenize\n",
        "from nltk.corpus import stopwords\n",
        "from nltk.stem import LancasterStemmer, WordNetLemmatizer\n",
        "from sklearn.preprocessing import LabelEncoder\n",
        "from sklearn.feature_extraction.text import TfidfVectorizer\n",
        "from tensorflow.keras.preprocessing.text import Tokenizer\n",
        "from tensorflow.keras.preprocessing.sequence import pad_sequences"
      ]
    },
    {
      "cell_type": "code",
      "execution_count": null,
      "metadata": {
        "id": "SFMawll91vbv"
      },
      "outputs": [],
      "source": [
        "warnings.filterwarnings(\"ignore\")"
      ]
    },
    {
      "cell_type": "code",
      "execution_count": null,
      "metadata": {
        "id": "JQiGMKo81vbw",
        "outputId": "661db950-49c2-40d9-ab37-5eb6d7fff670"
      },
      "outputs": [
        {
          "name": "stderr",
          "output_type": "stream",
          "text": [
            "[nltk_data] Downloading package wordnet to\n",
            "[nltk_data]     C:\\Users\\Guhan.B\\AppData\\Roaming\\nltk_data...\n",
            "[nltk_data]   Package wordnet is already up-to-date!\n",
            "[nltk_data] Error loading stopword: Package 'stopword' not found in\n",
            "[nltk_data]     index\n",
            "[nltk_data] Downloading package punkt to\n",
            "[nltk_data]     C:\\Users\\Guhan.B\\AppData\\Roaming\\nltk_data...\n",
            "[nltk_data]   Package punkt is already up-to-date!\n"
          ]
        },
        {
          "data": {
            "text/plain": [
              "True"
            ]
          },
          "execution_count": 2,
          "metadata": {},
          "output_type": "execute_result"
        }
      ],
      "source": [
        "nltk.download('wordnet')\n",
        "nltk.download('stopword')\n",
        "nltk.download('punkt')"
      ]
    },
    {
      "cell_type": "code",
      "execution_count": null,
      "metadata": {
        "id": "1Cri4IEe1vbx"
      },
      "outputs": [],
      "source": [
        "def removeNoise(text):\n",
        "    parser = BeautifulSoup(text, \"html.parser\")\n",
        "    text = parser.get_text()\n",
        "    text = contractions.fix(text)\n",
        "    return text\n",
        "\n",
        "def tokenize(text):\n",
        "    return nltk.word_tokenize(text)\n",
        "\n",
        "def removeNonaASCII(words):\n",
        "    newWords = []\n",
        "    for word in words:\n",
        "        newWord = unicodedata.normalize('NFKD', word).encode('ascii', 'ignore').decode('utf-8', 'ignore')\n",
        "        newWords.append(newWord)\n",
        "    return newWords\n",
        "\n",
        "def toLowercase(words):\n",
        "    newWords = []\n",
        "    for word in words:\n",
        "        newWord = word.lower()\n",
        "        newWords.append(newWord)\n",
        "    return newWords\n",
        "\n",
        "def removePunctuation(words):\n",
        "    newWords = []\n",
        "    for word in words:\n",
        "        newWord = re.sub(r'[^\\w\\s]', '', word)\n",
        "        if newWord != '':\n",
        "            newWords.append(newWord)\n",
        "    return newWords\n",
        "\n",
        "def replaceNumbers(words):\n",
        "    engine = inflect.engine()\n",
        "    newWords = []\n",
        "    for word in words:\n",
        "        if word.isdigit():\n",
        "            newWord = engine.number_to_words(word)\n",
        "            newWords.append(newWord)\n",
        "        else:\n",
        "            newWords.append(word)\n",
        "    return newWords\n",
        "\n",
        "def removeStopwords(words):\n",
        "    newWords = []\n",
        "    for word in words:\n",
        "        if word not in stopwords.words('english'):\n",
        "            newWords.append(word)\n",
        "    return newWords\n",
        "\n",
        "def stemWords(words):\n",
        "    stemmer = LancasterStemmer()\n",
        "    stems = []\n",
        "    for word in words:\n",
        "        stem = stemmer.stem(word)\n",
        "        stems.append(stem)\n",
        "    return stems\n",
        "\n",
        "def lemmatizeVerbs(words):\n",
        "    lemmatizer = WordNetLemmatizer()\n",
        "    lemmas = []\n",
        "    for word in words:\n",
        "        lemma = lemmatizer.lemmatize(word, pos='v')\n",
        "        lemmas.append(lemma)\n",
        "    return lemmas\n",
        "\n",
        "def normalizeText(words):\n",
        "    words = removeNonaASCII(words)\n",
        "    words = toLowercase(words)\n",
        "    words = removePunctuation(words)\n",
        "    words = removeStopwords(words)\n",
        "    words = stemWords(words)\n",
        "    words = lemmatizeVerbs(words)\n",
        "    return words\n",
        "\n",
        "def processText(text):\n",
        "    text = removeNoise(text)\n",
        "    text = ' '.join(normalizeText(tokenize(text)))\n",
        "    return text"
      ]
    },
    {
      "cell_type": "code",
      "execution_count": null,
      "metadata": {
        "id": "34vMZRTO1vbz",
        "outputId": "48af722f-21f8-4c32-cb3a-aab4230ac9e9"
      },
      "outputs": [
        {
          "name": "stdout",
          "output_type": "stream",
          "text": [
            "Number of rows in data: 159571\n",
            "Number of columns in data: 7\n"
          ]
        },
        {
          "data": {
            "text/html": [
              "<div>\n",
              "<style scoped>\n",
              "    .dataframe tbody tr th:only-of-type {\n",
              "        vertical-align: middle;\n",
              "    }\n",
              "\n",
              "    .dataframe tbody tr th {\n",
              "        vertical-align: top;\n",
              "    }\n",
              "\n",
              "    .dataframe thead th {\n",
              "        text-align: right;\n",
              "    }\n",
              "</style>\n",
              "<table border=\"1\" class=\"dataframe\">\n",
              "  <thead>\n",
              "    <tr style=\"text-align: right;\">\n",
              "      <th></th>\n",
              "      <th>Message</th>\n",
              "      <th>SC_1</th>\n",
              "      <th>SC_2</th>\n",
              "      <th>SC_3</th>\n",
              "      <th>SC_4</th>\n",
              "      <th>SC_5</th>\n",
              "      <th>SC_6</th>\n",
              "    </tr>\n",
              "  </thead>\n",
              "  <tbody>\n",
              "    <tr>\n",
              "      <th>0</th>\n",
              "      <td>Explanation\\nWhy the edits made under my usern...</td>\n",
              "      <td>0</td>\n",
              "      <td>0</td>\n",
              "      <td>0</td>\n",
              "      <td>0</td>\n",
              "      <td>0</td>\n",
              "      <td>0</td>\n",
              "    </tr>\n",
              "    <tr>\n",
              "      <th>1</th>\n",
              "      <td>D'aww! He matches this background colour I'm s...</td>\n",
              "      <td>0</td>\n",
              "      <td>0</td>\n",
              "      <td>0</td>\n",
              "      <td>0</td>\n",
              "      <td>0</td>\n",
              "      <td>0</td>\n",
              "    </tr>\n",
              "    <tr>\n",
              "      <th>2</th>\n",
              "      <td>Hey man, I'm really not trying to edit war. It...</td>\n",
              "      <td>0</td>\n",
              "      <td>0</td>\n",
              "      <td>0</td>\n",
              "      <td>0</td>\n",
              "      <td>0</td>\n",
              "      <td>0</td>\n",
              "    </tr>\n",
              "    <tr>\n",
              "      <th>3</th>\n",
              "      <td>\"\\nMore\\nI can't make any real suggestions on ...</td>\n",
              "      <td>0</td>\n",
              "      <td>0</td>\n",
              "      <td>0</td>\n",
              "      <td>0</td>\n",
              "      <td>0</td>\n",
              "      <td>0</td>\n",
              "    </tr>\n",
              "    <tr>\n",
              "      <th>4</th>\n",
              "      <td>You, sir, are my hero. Any chance you remember...</td>\n",
              "      <td>0</td>\n",
              "      <td>0</td>\n",
              "      <td>0</td>\n",
              "      <td>0</td>\n",
              "      <td>0</td>\n",
              "      <td>0</td>\n",
              "    </tr>\n",
              "  </tbody>\n",
              "</table>\n",
              "</div>"
            ],
            "text/plain": [
              "                                             Message  SC_1  SC_2  SC_3  SC_4  \\\n",
              "0  Explanation\\nWhy the edits made under my usern...     0     0     0     0   \n",
              "1  D'aww! He matches this background colour I'm s...     0     0     0     0   \n",
              "2  Hey man, I'm really not trying to edit war. It...     0     0     0     0   \n",
              "3  \"\\nMore\\nI can't make any real suggestions on ...     0     0     0     0   \n",
              "4  You, sir, are my hero. Any chance you remember...     0     0     0     0   \n",
              "\n",
              "   SC_5  SC_6  \n",
              "0     0     0  \n",
              "1     0     0  \n",
              "2     0     0  \n",
              "3     0     0  \n",
              "4     0     0  "
            ]
          },
          "execution_count": 4,
          "metadata": {},
          "output_type": "execute_result"
        }
      ],
      "source": [
        "data = pd.read_csv(\"./dataset/spam_train.csv\")\n",
        "\n",
        "print(\"Number of rows in data:\", data.shape[0])\n",
        "print(\"Number of columns in data:\", data.shape[1])\n",
        "\n",
        "data.head()"
      ]
    },
    {
      "cell_type": "code",
      "execution_count": null,
      "metadata": {
        "id": "1J4Te-0G1vb0",
        "outputId": "fb3a3ea6-f987-45f6-a472-32a478d4f752"
      },
      "outputs": [
        {
          "data": {
            "text/html": [
              "<div>\n",
              "<style scoped>\n",
              "    .dataframe tbody tr th:only-of-type {\n",
              "        vertical-align: middle;\n",
              "    }\n",
              "\n",
              "    .dataframe tbody tr th {\n",
              "        vertical-align: top;\n",
              "    }\n",
              "\n",
              "    .dataframe thead th {\n",
              "        text-align: right;\n",
              "    }\n",
              "</style>\n",
              "<table border=\"1\" class=\"dataframe\">\n",
              "  <thead>\n",
              "    <tr style=\"text-align: right;\">\n",
              "      <th></th>\n",
              "      <th>Message</th>\n",
              "      <th>SC_1</th>\n",
              "      <th>SC_2</th>\n",
              "      <th>SC_3</th>\n",
              "      <th>SC_4</th>\n",
              "      <th>SC_5</th>\n",
              "      <th>SC_6</th>\n",
              "      <th>Label</th>\n",
              "    </tr>\n",
              "  </thead>\n",
              "  <tbody>\n",
              "    <tr>\n",
              "      <th>0</th>\n",
              "      <td>Explanation\\nWhy the edits made under my usern...</td>\n",
              "      <td>0</td>\n",
              "      <td>0</td>\n",
              "      <td>0</td>\n",
              "      <td>0</td>\n",
              "      <td>0</td>\n",
              "      <td>0</td>\n",
              "      <td>0</td>\n",
              "    </tr>\n",
              "    <tr>\n",
              "      <th>1</th>\n",
              "      <td>D'aww! He matches this background colour I'm s...</td>\n",
              "      <td>0</td>\n",
              "      <td>0</td>\n",
              "      <td>0</td>\n",
              "      <td>0</td>\n",
              "      <td>0</td>\n",
              "      <td>0</td>\n",
              "      <td>0</td>\n",
              "    </tr>\n",
              "    <tr>\n",
              "      <th>2</th>\n",
              "      <td>Hey man, I'm really not trying to edit war. It...</td>\n",
              "      <td>0</td>\n",
              "      <td>0</td>\n",
              "      <td>0</td>\n",
              "      <td>0</td>\n",
              "      <td>0</td>\n",
              "      <td>0</td>\n",
              "      <td>0</td>\n",
              "    </tr>\n",
              "    <tr>\n",
              "      <th>3</th>\n",
              "      <td>\"\\nMore\\nI can't make any real suggestions on ...</td>\n",
              "      <td>0</td>\n",
              "      <td>0</td>\n",
              "      <td>0</td>\n",
              "      <td>0</td>\n",
              "      <td>0</td>\n",
              "      <td>0</td>\n",
              "      <td>0</td>\n",
              "    </tr>\n",
              "    <tr>\n",
              "      <th>4</th>\n",
              "      <td>You, sir, are my hero. Any chance you remember...</td>\n",
              "      <td>0</td>\n",
              "      <td>0</td>\n",
              "      <td>0</td>\n",
              "      <td>0</td>\n",
              "      <td>0</td>\n",
              "      <td>0</td>\n",
              "      <td>0</td>\n",
              "    </tr>\n",
              "  </tbody>\n",
              "</table>\n",
              "</div>"
            ],
            "text/plain": [
              "                                             Message  SC_1  SC_2  SC_3  SC_4  \\\n",
              "0  Explanation\\nWhy the edits made under my usern...     0     0     0     0   \n",
              "1  D'aww! He matches this background colour I'm s...     0     0     0     0   \n",
              "2  Hey man, I'm really not trying to edit war. It...     0     0     0     0   \n",
              "3  \"\\nMore\\nI can't make any real suggestions on ...     0     0     0     0   \n",
              "4  You, sir, are my hero. Any chance you remember...     0     0     0     0   \n",
              "\n",
              "   SC_5  SC_6  Label  \n",
              "0     0     0      0  \n",
              "1     0     0      0  \n",
              "2     0     0      0  \n",
              "3     0     0      0  \n",
              "4     0     0      0  "
            ]
          },
          "execution_count": 5,
          "metadata": {},
          "output_type": "execute_result"
        }
      ],
      "source": [
        "# Label => 0 = HAM, 1 = SPAM\n",
        "\n",
        "categories = [\"SC_1\", \"SC_2\", \"SC_3\", \"SC_4\", \"SC_5\", \"SC_6\"]\n",
        "data[\"Label\"] = 0\n",
        "\n",
        "for category in categories:\n",
        "    data[\"Label\"] += data[category]\n",
        "\n",
        "data.head()"
      ]
    },
    {
      "cell_type": "code",
      "execution_count": null,
      "metadata": {
        "id": "IYniyo7P1vb1"
      },
      "outputs": [],
      "source": [
        "ham_rows  = data[data[\"Label\"] == 0]\n",
        "spam_rows = data[data[\"Label\"] == 1]\n",
        "\n",
        "drop_indices = np.random.choice(ham_rows.index, ham_rows.shape[0] - spam_rows.shape[0] , replace=False)\n",
        "\n",
        "ham_rows = ham_rows.drop(drop_indices)\n",
        "\n",
        "data_balanced = pd.concat([ham_rows, spam_rows], axis=0)\n",
        "data_balanced  = data_balanced.sample(frac=1).reset_index()"
      ]
    },
    {
      "cell_type": "code",
      "execution_count": null,
      "metadata": {
        "id": "SiFfekZP1vb2",
        "outputId": "88309921-064f-4503-a044-5b50b6e90447"
      },
      "outputs": [
        {
          "name": "stdout",
          "output_type": "stream",
          "text": [
            "Number of rows in data: 12720\n",
            "Number of columns in data: 9\n"
          ]
        },
        {
          "data": {
            "text/html": [
              "<div>\n",
              "<style scoped>\n",
              "    .dataframe tbody tr th:only-of-type {\n",
              "        vertical-align: middle;\n",
              "    }\n",
              "\n",
              "    .dataframe tbody tr th {\n",
              "        vertical-align: top;\n",
              "    }\n",
              "\n",
              "    .dataframe thead th {\n",
              "        text-align: right;\n",
              "    }\n",
              "</style>\n",
              "<table border=\"1\" class=\"dataframe\">\n",
              "  <thead>\n",
              "    <tr style=\"text-align: right;\">\n",
              "      <th></th>\n",
              "      <th>index</th>\n",
              "      <th>Message</th>\n",
              "      <th>SC_1</th>\n",
              "      <th>SC_2</th>\n",
              "      <th>SC_3</th>\n",
              "      <th>SC_4</th>\n",
              "      <th>SC_5</th>\n",
              "      <th>SC_6</th>\n",
              "      <th>Label</th>\n",
              "    </tr>\n",
              "  </thead>\n",
              "  <tbody>\n",
              "    <tr>\n",
              "      <th>0</th>\n",
              "      <td>152385</td>\n",
              "      <td>There's that Liberal self-righteousness I knew...</td>\n",
              "      <td>1</td>\n",
              "      <td>0</td>\n",
              "      <td>0</td>\n",
              "      <td>0</td>\n",
              "      <td>0</td>\n",
              "      <td>0</td>\n",
              "      <td>1</td>\n",
              "    </tr>\n",
              "    <tr>\n",
              "      <th>1</th>\n",
              "      <td>71647</td>\n",
              "      <td>In your recent edit, you say that you are a re...</td>\n",
              "      <td>0</td>\n",
              "      <td>0</td>\n",
              "      <td>0</td>\n",
              "      <td>0</td>\n",
              "      <td>0</td>\n",
              "      <td>0</td>\n",
              "      <td>0</td>\n",
              "    </tr>\n",
              "    <tr>\n",
              "      <th>2</th>\n",
              "      <td>38875</td>\n",
              "      <td>Up yours, you authoritarian little Hitlers.</td>\n",
              "      <td>1</td>\n",
              "      <td>0</td>\n",
              "      <td>0</td>\n",
              "      <td>0</td>\n",
              "      <td>0</td>\n",
              "      <td>0</td>\n",
              "      <td>1</td>\n",
              "    </tr>\n",
              "    <tr>\n",
              "      <th>3</th>\n",
              "      <td>120659</td>\n",
              "      <td>No that is not the objection. Nor is that comm...</td>\n",
              "      <td>0</td>\n",
              "      <td>0</td>\n",
              "      <td>0</td>\n",
              "      <td>0</td>\n",
              "      <td>0</td>\n",
              "      <td>0</td>\n",
              "      <td>0</td>\n",
              "    </tr>\n",
              "    <tr>\n",
              "      <th>4</th>\n",
              "      <td>55556</td>\n",
              "      <td>needs categories \\n\\nLike the header says, thi...</td>\n",
              "      <td>0</td>\n",
              "      <td>0</td>\n",
              "      <td>0</td>\n",
              "      <td>0</td>\n",
              "      <td>0</td>\n",
              "      <td>0</td>\n",
              "      <td>0</td>\n",
              "    </tr>\n",
              "  </tbody>\n",
              "</table>\n",
              "</div>"
            ],
            "text/plain": [
              "    index                                            Message  SC_1  SC_2  \\\n",
              "0  152385  There's that Liberal self-righteousness I knew...     1     0   \n",
              "1   71647  In your recent edit, you say that you are a re...     0     0   \n",
              "2   38875        Up yours, you authoritarian little Hitlers.     1     0   \n",
              "3  120659  No that is not the objection. Nor is that comm...     0     0   \n",
              "4   55556  needs categories \\n\\nLike the header says, thi...     0     0   \n",
              "\n",
              "   SC_3  SC_4  SC_5  SC_6  Label  \n",
              "0     0     0     0     0      1  \n",
              "1     0     0     0     0      0  \n",
              "2     0     0     0     0      1  \n",
              "3     0     0     0     0      0  \n",
              "4     0     0     0     0      0  "
            ]
          },
          "execution_count": 7,
          "metadata": {},
          "output_type": "execute_result"
        }
      ],
      "source": [
        "print(\"Number of rows in data:\", data_balanced.shape[0])\n",
        "print(\"Number of columns in data:\", data_balanced.shape[1])\n",
        "\n",
        "data_balanced.head()"
      ]
    },
    {
      "cell_type": "code",
      "execution_count": null,
      "metadata": {
        "id": "agq_jeK01vb3",
        "outputId": "fc98be8a-7bf3-42ea-943c-8c17cbf5c1c6"
      },
      "outputs": [
        {
          "data": {
            "text/html": [
              "<div>\n",
              "<style scoped>\n",
              "    .dataframe tbody tr th:only-of-type {\n",
              "        vertical-align: middle;\n",
              "    }\n",
              "\n",
              "    .dataframe tbody tr th {\n",
              "        vertical-align: top;\n",
              "    }\n",
              "\n",
              "    .dataframe thead th {\n",
              "        text-align: right;\n",
              "    }\n",
              "</style>\n",
              "<table border=\"1\" class=\"dataframe\">\n",
              "  <thead>\n",
              "    <tr style=\"text-align: right;\">\n",
              "      <th></th>\n",
              "      <th>index</th>\n",
              "      <th>Message</th>\n",
              "      <th>SC_1</th>\n",
              "      <th>SC_2</th>\n",
              "      <th>SC_3</th>\n",
              "      <th>SC_4</th>\n",
              "      <th>SC_5</th>\n",
              "      <th>SC_6</th>\n",
              "      <th>Label</th>\n",
              "    </tr>\n",
              "  </thead>\n",
              "  <tbody>\n",
              "    <tr>\n",
              "      <th>0</th>\n",
              "      <td>152385</td>\n",
              "      <td>There's that Liberal self-righteousness I knew...</td>\n",
              "      <td>1</td>\n",
              "      <td>0</td>\n",
              "      <td>0</td>\n",
              "      <td>0</td>\n",
              "      <td>0</td>\n",
              "      <td>0</td>\n",
              "      <td>1</td>\n",
              "    </tr>\n",
              "    <tr>\n",
              "      <th>1</th>\n",
              "      <td>71647</td>\n",
              "      <td>In your recent edit, you say that you are a re...</td>\n",
              "      <td>0</td>\n",
              "      <td>0</td>\n",
              "      <td>0</td>\n",
              "      <td>0</td>\n",
              "      <td>0</td>\n",
              "      <td>0</td>\n",
              "      <td>0</td>\n",
              "    </tr>\n",
              "    <tr>\n",
              "      <th>2</th>\n",
              "      <td>38875</td>\n",
              "      <td>Up yours, you authoritarian little Hitlers.</td>\n",
              "      <td>1</td>\n",
              "      <td>0</td>\n",
              "      <td>0</td>\n",
              "      <td>0</td>\n",
              "      <td>0</td>\n",
              "      <td>0</td>\n",
              "      <td>1</td>\n",
              "    </tr>\n",
              "    <tr>\n",
              "      <th>3</th>\n",
              "      <td>120659</td>\n",
              "      <td>No that is not the objection. Nor is that comm...</td>\n",
              "      <td>0</td>\n",
              "      <td>0</td>\n",
              "      <td>0</td>\n",
              "      <td>0</td>\n",
              "      <td>0</td>\n",
              "      <td>0</td>\n",
              "      <td>0</td>\n",
              "    </tr>\n",
              "    <tr>\n",
              "      <th>4</th>\n",
              "      <td>55556</td>\n",
              "      <td>needs categories \\n\\nLike the header says, thi...</td>\n",
              "      <td>0</td>\n",
              "      <td>0</td>\n",
              "      <td>0</td>\n",
              "      <td>0</td>\n",
              "      <td>0</td>\n",
              "      <td>0</td>\n",
              "      <td>0</td>\n",
              "    </tr>\n",
              "  </tbody>\n",
              "</table>\n",
              "</div>"
            ],
            "text/plain": [
              "    index                                            Message  SC_1  SC_2  \\\n",
              "0  152385  There's that Liberal self-righteousness I knew...     1     0   \n",
              "1   71647  In your recent edit, you say that you are a re...     0     0   \n",
              "2   38875        Up yours, you authoritarian little Hitlers.     1     0   \n",
              "3  120659  No that is not the objection. Nor is that comm...     0     0   \n",
              "4   55556  needs categories \\n\\nLike the header says, thi...     0     0   \n",
              "\n",
              "   SC_3  SC_4  SC_5  SC_6  Label  \n",
              "0     0     0     0     0      1  \n",
              "1     0     0     0     0      0  \n",
              "2     0     0     0     0      1  \n",
              "3     0     0     0     0      0  \n",
              "4     0     0     0     0      0  "
            ]
          },
          "execution_count": 8,
          "metadata": {},
          "output_type": "execute_result"
        }
      ],
      "source": [
        "data_balanced[\"Message\"].apply(processText)\n",
        "data_balanced.head()"
      ]
    },
    {
      "cell_type": "code",
      "execution_count": null,
      "metadata": {
        "id": "j73qXic71vb3"
      },
      "outputs": [],
      "source": [
        "data_balanced.to_csv(\"./dataset/spam_train_balanced.csv\")"
      ]
    },
    {
      "cell_type": "code",
      "execution_count": null,
      "metadata": {
        "id": "i81U-0zD1vb4",
        "outputId": "16840f2c-7646-4d50-ed63-f45467668a31"
      },
      "outputs": [
        {
          "data": {
            "text/plain": [
              "(12720, 10000)"
            ]
          },
          "execution_count": 10,
          "metadata": {},
          "output_type": "execute_result"
        }
      ],
      "source": [
        "vectorizer = TfidfVectorizer(\n",
        "    encoding=\"utf-8\", \n",
        "    strip_accents=\"unicode\", \n",
        "    stop_words=\"english\", \n",
        "    lowercase=True, \n",
        "    max_features=10000\n",
        ")\n",
        "tfidf_result = vectorizer.fit_transform(data_balanced[\"Message\"])\n",
        "tfidf_result.shape"
      ]
    },
    {
      "cell_type": "code",
      "execution_count": null,
      "metadata": {
        "id": "AMEggwCY1vb4"
      },
      "outputs": [],
      "source": [
        "pickle.dump(vectorizer, open('./models/message_vectorizer.pkl', 'wb'))"
      ]
    },
    {
      "cell_type": "code",
      "execution_count": null,
      "metadata": {
        "id": "yWBnTPPb1vb5"
      },
      "outputs": [],
      "source": [
        "SDC_X = tfidf_result.toarray()\n",
        "SDC_Y = data_balanced[\"Label\"].values\n",
        "\n",
        "np.save(\"./dataset/SDC_X.npy\", SDC_X)\n",
        "np.save(\"./dataset/SDC_Y.npy\", SDC_Y)"
      ]
    },
    {
      "cell_type": "code",
      "execution_count": null,
      "metadata": {
        "id": "JQzCdhMj1vb5",
        "outputId": "6159c778-65de-469e-c648-a61af0b09b3e"
      },
      "outputs": [
        {
          "name": "stdout",
          "output_type": "stream",
          "text": [
            "400000 Word vectors\n"
          ]
        }
      ],
      "source": [
        "embeddings = {}\n",
        "glove = open(\"./models/glove.6B.50d.txt\", encoding=\"utf8\")\n",
        "for line in glove:\n",
        "    values = line.split()\n",
        "    word = values[0]\n",
        "    try:\n",
        "        C = np.asarray(values[1:], dtype='float32')\n",
        "    except:\n",
        "        pass\n",
        "    embeddings[word] = C  \n",
        "glove.close()\n",
        "pickle.dump(embeddings, open('./dataset/glove_embeddings.pkl', 'wb'))\n",
        "print(f'{len(embeddings)} Word vectors')"
      ]
    },
    {
      "cell_type": "code",
      "execution_count": null,
      "metadata": {
        "id": "M81N6Lus1vb5",
        "outputId": "79d67a9d-1251-49da-e63e-f47f4755d7c4"
      },
      "outputs": [
        {
          "name": "stdout",
          "output_type": "stream",
          "text": [
            "41866 Unique tokens\n"
          ]
        }
      ],
      "source": [
        "tokenizer = Tokenizer(num_words=75000)\n",
        "tokenizer.fit_on_texts(data_balanced[\"Message\"])\n",
        "sequences = tokenizer.texts_to_sequences(data_balanced[\"Message\"])\n",
        "paddedSequence = pad_sequences(sequences, maxlen=500)\n",
        "wordIndex = tokenizer.word_index\n",
        "print(f'{len(wordIndex)} Unique tokens')\n",
        "pickle.dump(tokenizer, open('./models/message_tokenizer.pkl', 'wb'))"
      ]
    },
    {
      "cell_type": "code",
      "execution_count": null,
      "metadata": {
        "id": "cSPyUDDc1vb6"
      },
      "outputs": [],
      "source": [
        "SCC_X = paddedSequence\n",
        "SCC_Y = data_balanced[[\"SC_1\", \"SC_2\", \"SC_3\", \"SC_4\", \"SC_5\", \"SC_6\"]].values\n",
        "\n",
        "np.save(\"./dataset/SCC_X.npy\", SCC_X)\n",
        "np.save(\"./dataset/SCC_Y.npy\", SCC_Y)"
      ]
    }
  ],
  "metadata": {
    "kernelspec": {
      "display_name": "Python 3.8.8 ('base')",
      "language": "python",
      "name": "python3"
    },
    "language_info": {
      "codemirror_mode": {
        "name": "ipython",
        "version": 3
      },
      "file_extension": ".py",
      "mimetype": "text/x-python",
      "name": "python",
      "nbconvert_exporter": "python",
      "pygments_lexer": "ipython3",
      "version": "3.8.8"
    },
    "orig_nbformat": 4,
    "vscode": {
      "interpreter": {
        "hash": "30d15984fd22aa96de85f16433eec91bbe2faea5d46ed3d4d24713e4f4ec970c"
      }
    },
    "colab": {
      "provenance": []
    }
  },
  "nbformat": 4,
  "nbformat_minor": 0
}